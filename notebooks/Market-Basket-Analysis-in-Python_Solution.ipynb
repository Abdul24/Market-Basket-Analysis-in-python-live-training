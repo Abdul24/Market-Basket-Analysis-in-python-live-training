{
  "nbformat": 4,
  "nbformat_minor": 0,
  "metadata": {
    "colab": {
      "name": "python_live_session_template.ipynb",
      "provenance": []
    },
    "kernelspec": {
      "display_name": "Python 3",
      "language": "python",
      "name": "python3"
    },
    "language_info": {
      "codemirror_mode": {
        "name": "ipython",
        "version": 3
      },
      "file_extension": ".py",
      "mimetype": "text/x-python",
      "name": "python",
      "nbconvert_exporter": "python",
      "pygments_lexer": "ipython3",
      "version": "3.7.1"
    }
  },
  "cells": [
    {
      "cell_type": "markdown",
      "metadata": {
        "colab_type": "text",
        "id": "6Ijg5wUCTQYG"
      },
      "source": [
        "<p align=\"center\">\n",
        "<img src=\"https://github.com/datacamp/Market-Basket-Analysis-in-python-live-training/blob/master/assets/datacamp.svg?raw=True\" alt = \"DataCamp icon\" width=\"50%\">\n",
        "</p>\n",
        "<br><br>\n",
        "\n",
        "## **Market Basket Analysis in Python**\n",
        "\n",
        "Welcome to this hands-on training event on Market Basket Analysis in Python. In this session, you will learn how to:\n",
        "* Identify patterns in consumer decision-making with the `mlxtend` package.\n",
        "* Use metrics to evaluate the properties of patterns.\n",
        "* Construct \"rules\" that provide concrete recommendations for businesses.\n",
        "* Visualize patterns and rules using `seaborn` and `matplotlib`.\n",
        "\n",
        "## **The dataset**\n",
        "\n",
        "**We'll use a dataset from a Brazilian ecommerce site (olist.com) that is divided into three CSV files:**\n",
        "\n",
        "1. `olist_order_items_dataset.csv`\n",
        "2. `olist_products_dataset.csv`\n",
        "3. `product_category_name_translation.csv`.\n",
        "\n",
        "**The column definitions are as follows:**\n",
        "\n",
        "`olist_order_items_dataset.csv`:\n",
        "\n",
        "- `order_id`: The unique identifier for a transaction.\n",
        "- `order_item_id`: The order of an item within a transaction.\n",
        "- `product_id`: The unique identifier for a product.\n",
        "- `price`: The product's price.\n",
        "\n",
        "`olist_products_dataset.csv`:\n",
        "\n",
        "- `product_id`: The unique identifier for a product.\n",
        "- `product_category_name`: The name of an item's product category in Portuguese.\n",
        "- `product_weight_g`: The product's weight in grams.\n",
        "- `product_length_cm`: The product's length in centimeters.\n",
        "- `product_width_cm`: The product's width in centimeters.\n",
        "- `product_height_cm`: The product's height in centimeters.\n",
        "\n",
        "`product_category_name_translation.csv`:\n",
        "\n",
        "- `product_category_name`: The name of an item's product category in Portuguese.\n",
        "- `product_category_name_english`: The name of an item's product category in English.\n"
      ]
    },
    {
      "cell_type": "markdown",
      "metadata": {
        "colab_type": "text",
        "id": "BMYfcKeDY85K"
      },
      "source": [
        "## **Data preparation**"
      ]
    },
    {
      "cell_type": "markdown",
      "metadata": {
        "id": "y3xDirMYnuYB",
        "colab_type": "text"
      },
      "source": [
        "The first step in any Market Basket Analysis (MBA) project is to determine what constitutes an **item**, an **itemset**, and a **transaction**. This will depend on the dataset we're using and the question we're attempting to answer.\n",
        "\n",
        "* **Music streaming service**\n",
        "\t* Item: Song\n",
        "\t* Itemset: Collection of unique songs\n",
        "\t* Transaction: User song library\n",
        "* **Grocery store**\n",
        "\t* Item: Grocery\n",
        "\t* Itemset: Collection of groceries\n",
        "\t* Transaction: Basket of items purchased\n",
        "* **Ebook store**\n",
        "\t* Item: Ebook\n",
        "\t* Itemset: One or more ebooks\n",
        "\t* Transaction: User ebook library\n"
      ]
    },
    {
      "cell_type": "markdown",
      "metadata": {
        "id": "4_gO3NX1JvFy",
        "colab_type": "text"
      },
      "source": [
        "**In this live training session, we'll use a dataset of transactions from olist.com, a Brazilian ecommerce site.**\n",
        "* 100,000+ orders over 2016-2018.\n",
        "* Olist connects sellers to marketplaces.\n",
        "* Seller can register products with Olist.\n",
        "* Customer makes purchase at marketplace from Olist store.\n",
        "* Seller fulfills orders."
      ]
    },
    {
      "cell_type": "markdown",
      "metadata": {
        "id": "_mo4P8zBp_9d",
        "colab_type": "text"
      },
      "source": [
        "\n",
        "\n",
        "---\n",
        "\n",
        "\n",
        "![alt](https://github.com/datacamp/Market-Basket-Analysis-in-python-live-training/blob/master/assets/olist_marketplaces.png?raw=true)\n",
        "\n",
        "\n",
        "\n",
        "\n",
        "\n",
        "---\n",
        "\n"
      ]
    },
    {
      "cell_type": "markdown",
      "metadata": {
        "id": "D1HMEk73_ie6",
        "colab_type": "text"
      },
      "source": [
        "**What is an item**?\n",
        "  * A product purchased from Olist.\n",
        "\n",
        "**What is an itemset?**\n",
        "  * A collection of one or more product(s).\n",
        "\n",
        "**What is a transaction?**\n",
        "  * An itemset that corresponds to a customer's order."
      ]
    },
    {
      "cell_type": "code",
      "metadata": {
        "colab_type": "code",
        "id": "EMQfyC7GUNhT",
        "colab": {}
      },
      "source": [
        "# Import modules.\n",
        "import numpy as np\n",
        "import pandas as pd\n",
        "import matplotlib.pyplot as plt\n",
        "import seaborn as sns\n",
        "sns.set()\n",
        "\n",
        "# Define path to data.\n",
        "data_path = 'https://github.com/datacamp/Market-Basket-Analysis-in-python-live-training/raw/master/data/'\n",
        "\n",
        "# Load orders dataset\n",
        "orders = pd.read_csv(data_path+'olist_order_items_dataset.csv')\n",
        "\n",
        "# Load products items dataset\n",
        "products = pd.read_csv(data_path+'olist_products_dataset.csv')\n",
        "\n",
        "# Load translations dataset\n",
        "translations = pd.read_csv(data_path+'product_category_name_translation.csv')"
      ],
      "execution_count": null,
      "outputs": []
    },
    {
      "cell_type": "code",
      "metadata": {
        "id": "KOKdds8Qe6wq",
        "colab_type": "code",
        "colab": {
          "base_uri": "https://localhost:8080/",
          "height": 204
        },
        "outputId": "fa772246-bb98-403c-922a-026ae4c9e2d8"
      },
      "source": [
        "# Preview columns of orders.\n",
        "orders.head()"
      ],
      "execution_count": null,
      "outputs": [
        {
          "output_type": "execute_result",
          "data": {
            "text/html": [
              "<div>\n",
              "<style scoped>\n",
              "    .dataframe tbody tr th:only-of-type {\n",
              "        vertical-align: middle;\n",
              "    }\n",
              "\n",
              "    .dataframe tbody tr th {\n",
              "        vertical-align: top;\n",
              "    }\n",
              "\n",
              "    .dataframe thead th {\n",
              "        text-align: right;\n",
              "    }\n",
              "</style>\n",
              "<table border=\"1\" class=\"dataframe\">\n",
              "  <thead>\n",
              "    <tr style=\"text-align: right;\">\n",
              "      <th></th>\n",
              "      <th>order_id</th>\n",
              "      <th>order_item_id</th>\n",
              "      <th>product_id</th>\n",
              "      <th>price</th>\n",
              "    </tr>\n",
              "  </thead>\n",
              "  <tbody>\n",
              "    <tr>\n",
              "      <th>0</th>\n",
              "      <td>00010242fe8c5a6d1ba2dd792cb16214</td>\n",
              "      <td>1</td>\n",
              "      <td>4244733e06e7ecb4970a6e2683c13e61</td>\n",
              "      <td>58.90</td>\n",
              "    </tr>\n",
              "    <tr>\n",
              "      <th>1</th>\n",
              "      <td>00018f77f2f0320c557190d7a144bdd3</td>\n",
              "      <td>1</td>\n",
              "      <td>e5f2d52b802189ee658865ca93d83a8f</td>\n",
              "      <td>239.90</td>\n",
              "    </tr>\n",
              "    <tr>\n",
              "      <th>2</th>\n",
              "      <td>000229ec398224ef6ca0657da4fc703e</td>\n",
              "      <td>1</td>\n",
              "      <td>c777355d18b72b67abbeef9df44fd0fd</td>\n",
              "      <td>199.00</td>\n",
              "    </tr>\n",
              "    <tr>\n",
              "      <th>3</th>\n",
              "      <td>00024acbcdf0a6daa1e931b038114c75</td>\n",
              "      <td>1</td>\n",
              "      <td>7634da152a4610f1595efa32f14722fc</td>\n",
              "      <td>12.99</td>\n",
              "    </tr>\n",
              "    <tr>\n",
              "      <th>4</th>\n",
              "      <td>00042b26cf59d7ce69dfabb4e55b4fd9</td>\n",
              "      <td>1</td>\n",
              "      <td>ac6c3623068f30de03045865e4e10089</td>\n",
              "      <td>199.90</td>\n",
              "    </tr>\n",
              "  </tbody>\n",
              "</table>\n",
              "</div>"
            ],
            "text/plain": [
              "                           order_id  ...   price\n",
              "0  00010242fe8c5a6d1ba2dd792cb16214  ...   58.90\n",
              "1  00018f77f2f0320c557190d7a144bdd3  ...  239.90\n",
              "2  000229ec398224ef6ca0657da4fc703e  ...  199.00\n",
              "3  00024acbcdf0a6daa1e931b038114c75  ...   12.99\n",
              "4  00042b26cf59d7ce69dfabb4e55b4fd9  ...  199.90\n",
              "\n",
              "[5 rows x 4 columns]"
            ]
          },
          "metadata": {
            "tags": []
          },
          "execution_count": 22
        }
      ]
    },
    {
      "cell_type": "code",
      "metadata": {
        "id": "D5QCoN3CEaGi",
        "colab_type": "code",
        "colab": {
          "base_uri": "https://localhost:8080/",
          "height": 204
        },
        "outputId": "f9fd193a-017f-4e9a-a6ae-4815a16c3845"
      },
      "source": [
        "# Preview columns of products.\n",
        "products.head()"
      ],
      "execution_count": null,
      "outputs": [
        {
          "output_type": "execute_result",
          "data": {
            "text/html": [
              "<div>\n",
              "<style scoped>\n",
              "    .dataframe tbody tr th:only-of-type {\n",
              "        vertical-align: middle;\n",
              "    }\n",
              "\n",
              "    .dataframe tbody tr th {\n",
              "        vertical-align: top;\n",
              "    }\n",
              "\n",
              "    .dataframe thead th {\n",
              "        text-align: right;\n",
              "    }\n",
              "</style>\n",
              "<table border=\"1\" class=\"dataframe\">\n",
              "  <thead>\n",
              "    <tr style=\"text-align: right;\">\n",
              "      <th></th>\n",
              "      <th>product_id</th>\n",
              "      <th>product_category_name</th>\n",
              "      <th>product_weight_g</th>\n",
              "      <th>product_length_cm</th>\n",
              "      <th>product_height_cm</th>\n",
              "      <th>product_width_cm</th>\n",
              "    </tr>\n",
              "  </thead>\n",
              "  <tbody>\n",
              "    <tr>\n",
              "      <th>0</th>\n",
              "      <td>1e9e8ef04dbcff4541ed26657ea517e5</td>\n",
              "      <td>perfumaria</td>\n",
              "      <td>225.0</td>\n",
              "      <td>16.0</td>\n",
              "      <td>10.0</td>\n",
              "      <td>14.0</td>\n",
              "    </tr>\n",
              "    <tr>\n",
              "      <th>1</th>\n",
              "      <td>3aa071139cb16b67ca9e5dea641aaa2f</td>\n",
              "      <td>artes</td>\n",
              "      <td>1000.0</td>\n",
              "      <td>30.0</td>\n",
              "      <td>18.0</td>\n",
              "      <td>20.0</td>\n",
              "    </tr>\n",
              "    <tr>\n",
              "      <th>2</th>\n",
              "      <td>96bd76ec8810374ed1b65e291975717f</td>\n",
              "      <td>esporte_lazer</td>\n",
              "      <td>154.0</td>\n",
              "      <td>18.0</td>\n",
              "      <td>9.0</td>\n",
              "      <td>15.0</td>\n",
              "    </tr>\n",
              "    <tr>\n",
              "      <th>3</th>\n",
              "      <td>cef67bcfe19066a932b7673e239eb23d</td>\n",
              "      <td>bebes</td>\n",
              "      <td>371.0</td>\n",
              "      <td>26.0</td>\n",
              "      <td>4.0</td>\n",
              "      <td>26.0</td>\n",
              "    </tr>\n",
              "    <tr>\n",
              "      <th>4</th>\n",
              "      <td>9dc1a7de274444849c219cff195d0b71</td>\n",
              "      <td>utilidades_domesticas</td>\n",
              "      <td>625.0</td>\n",
              "      <td>20.0</td>\n",
              "      <td>17.0</td>\n",
              "      <td>13.0</td>\n",
              "    </tr>\n",
              "  </tbody>\n",
              "</table>\n",
              "</div>"
            ],
            "text/plain": [
              "                         product_id  ... product_width_cm\n",
              "0  1e9e8ef04dbcff4541ed26657ea517e5  ...             14.0\n",
              "1  3aa071139cb16b67ca9e5dea641aaa2f  ...             20.0\n",
              "2  96bd76ec8810374ed1b65e291975717f  ...             15.0\n",
              "3  cef67bcfe19066a932b7673e239eb23d  ...             26.0\n",
              "4  9dc1a7de274444849c219cff195d0b71  ...             13.0\n",
              "\n",
              "[5 rows x 6 columns]"
            ]
          },
          "metadata": {
            "tags": []
          },
          "execution_count": 23
        }
      ]
    },
    {
      "cell_type": "code",
      "metadata": {
        "id": "AzBZGfXJEZ0P",
        "colab_type": "code",
        "colab": {
          "base_uri": "https://localhost:8080/",
          "height": 204
        },
        "outputId": "d2555f6a-3e52-4d60-d05a-9fc9f887714c"
      },
      "source": [
        "# Preview translations.\n",
        "translations.head()"
      ],
      "execution_count": null,
      "outputs": [
        {
          "output_type": "execute_result",
          "data": {
            "text/html": [
              "<div>\n",
              "<style scoped>\n",
              "    .dataframe tbody tr th:only-of-type {\n",
              "        vertical-align: middle;\n",
              "    }\n",
              "\n",
              "    .dataframe tbody tr th {\n",
              "        vertical-align: top;\n",
              "    }\n",
              "\n",
              "    .dataframe thead th {\n",
              "        text-align: right;\n",
              "    }\n",
              "</style>\n",
              "<table border=\"1\" class=\"dataframe\">\n",
              "  <thead>\n",
              "    <tr style=\"text-align: right;\">\n",
              "      <th></th>\n",
              "      <th>product_category_name</th>\n",
              "      <th>product_category_name_english</th>\n",
              "    </tr>\n",
              "  </thead>\n",
              "  <tbody>\n",
              "    <tr>\n",
              "      <th>0</th>\n",
              "      <td>beleza_saude</td>\n",
              "      <td>health_beauty</td>\n",
              "    </tr>\n",
              "    <tr>\n",
              "      <th>1</th>\n",
              "      <td>informatica_acessorios</td>\n",
              "      <td>computers_accessories</td>\n",
              "    </tr>\n",
              "    <tr>\n",
              "      <th>2</th>\n",
              "      <td>automotivo</td>\n",
              "      <td>auto</td>\n",
              "    </tr>\n",
              "    <tr>\n",
              "      <th>3</th>\n",
              "      <td>cama_mesa_banho</td>\n",
              "      <td>bed_bath_table</td>\n",
              "    </tr>\n",
              "    <tr>\n",
              "      <th>4</th>\n",
              "      <td>moveis_decoracao</td>\n",
              "      <td>furniture_decor</td>\n",
              "    </tr>\n",
              "  </tbody>\n",
              "</table>\n",
              "</div>"
            ],
            "text/plain": [
              "    product_category_name product_category_name_english\n",
              "0            beleza_saude                 health_beauty\n",
              "1  informatica_acessorios         computers_accessories\n",
              "2              automotivo                          auto\n",
              "3         cama_mesa_banho                bed_bath_table\n",
              "4        moveis_decoracao               furniture_decor"
            ]
          },
          "metadata": {
            "tags": []
          },
          "execution_count": 24
        }
      ]
    },
    {
      "cell_type": "markdown",
      "metadata": {
        "id": "sC5SO_1LgNO5",
        "colab_type": "text"
      },
      "source": [
        "---\n",
        "<center><h1> Q&A 1</h1> </center>\n",
        "\n",
        "---"
      ]
    },
    {
      "cell_type": "markdown",
      "metadata": {
        "id": "3bGr9T2DGo20",
        "colab_type": "text"
      },
      "source": [
        "### **Translating item category names**"
      ]
    },
    {
      "cell_type": "code",
      "metadata": {
        "id": "6AXIu0a_fLuG",
        "colab_type": "code",
        "colab": {
          "base_uri": "https://localhost:8080/",
          "height": 221
        },
        "outputId": "ee08a28d-20cb-4ae3-f011-0bf74eb1d1f8"
      },
      "source": [
        "# Create dictionary translate product categories names.\n",
        "translate = dict(zip(translations['product_category_name'], translations['product_category_name_english']))\n",
        "\n",
        "# Perform translation on products DataFrame.\n",
        "products['product_category_name_english'] = products['product_category_name'].apply(lambda x: translate.get(x))\n",
        "\n",
        "# Print English names.\n",
        "print(products['product_category_name_english'])"
      ],
      "execution_count": null,
      "outputs": [
        {
          "output_type": "stream",
          "text": [
            "0                          perfume\n",
            "1                              art\n",
            "2                   sports_leisure\n",
            "3                             baby\n",
            "4                       housewares\n",
            "                   ...            \n",
            "32946              furniture_decor\n",
            "32947    construction_tools_lights\n",
            "32948               bed_bath_table\n",
            "32949        computers_accessories\n",
            "32950               bed_bath_table\n",
            "Name: product_category_name_english, Length: 32951, dtype: object\n"
          ],
          "name": "stdout"
        }
      ]
    },
    {
      "cell_type": "markdown",
      "metadata": {
        "id": "FVqfYEjwHXZM",
        "colab_type": "text"
      },
      "source": [
        "### **Convert product IDs to product category names.**"
      ]
    },
    {
      "cell_type": "code",
      "metadata": {
        "id": "jHJtZlAufYpA",
        "colab_type": "code",
        "colab": {}
      },
      "source": [
        "# Create dictionary that maps IDs to product names\n",
        "idToName = dict(zip(products['product_id'], products['product_category_name_english']))\n",
        "\n",
        "# Map IDs to product names in orders DataFrame\n",
        "orders['product_category_name_english'] = orders['product_id'].apply(lambda x: idToName.get(x))\n",
        "\n",
        "# Drop NaNs.\n",
        "orders.dropna(inplace=True)"
      ],
      "execution_count": null,
      "outputs": []
    },
    {
      "cell_type": "code",
      "metadata": {
        "id": "VOgHUOdNfedl",
        "colab_type": "code",
        "colab": {
          "base_uri": "https://localhost:8080/",
          "height": 204
        },
        "outputId": "a3f4c652-a4e9-4c38-cea8-8357f9e458fc"
      },
      "source": [
        "# Preview the orders DataFrame.\n",
        "orders.head()"
      ],
      "execution_count": null,
      "outputs": [
        {
          "output_type": "execute_result",
          "data": {
            "text/html": [
              "<div>\n",
              "<style scoped>\n",
              "    .dataframe tbody tr th:only-of-type {\n",
              "        vertical-align: middle;\n",
              "    }\n",
              "\n",
              "    .dataframe tbody tr th {\n",
              "        vertical-align: top;\n",
              "    }\n",
              "\n",
              "    .dataframe thead th {\n",
              "        text-align: right;\n",
              "    }\n",
              "</style>\n",
              "<table border=\"1\" class=\"dataframe\">\n",
              "  <thead>\n",
              "    <tr style=\"text-align: right;\">\n",
              "      <th></th>\n",
              "      <th>order_id</th>\n",
              "      <th>order_item_id</th>\n",
              "      <th>product_id</th>\n",
              "      <th>price</th>\n",
              "      <th>product_category_name_english</th>\n",
              "    </tr>\n",
              "  </thead>\n",
              "  <tbody>\n",
              "    <tr>\n",
              "      <th>0</th>\n",
              "      <td>00010242fe8c5a6d1ba2dd792cb16214</td>\n",
              "      <td>1</td>\n",
              "      <td>4244733e06e7ecb4970a6e2683c13e61</td>\n",
              "      <td>58.90</td>\n",
              "      <td>cool_stuff</td>\n",
              "    </tr>\n",
              "    <tr>\n",
              "      <th>1</th>\n",
              "      <td>00018f77f2f0320c557190d7a144bdd3</td>\n",
              "      <td>1</td>\n",
              "      <td>e5f2d52b802189ee658865ca93d83a8f</td>\n",
              "      <td>239.90</td>\n",
              "      <td>pet_shop</td>\n",
              "    </tr>\n",
              "    <tr>\n",
              "      <th>2</th>\n",
              "      <td>000229ec398224ef6ca0657da4fc703e</td>\n",
              "      <td>1</td>\n",
              "      <td>c777355d18b72b67abbeef9df44fd0fd</td>\n",
              "      <td>199.00</td>\n",
              "      <td>furniture_decor</td>\n",
              "    </tr>\n",
              "    <tr>\n",
              "      <th>3</th>\n",
              "      <td>00024acbcdf0a6daa1e931b038114c75</td>\n",
              "      <td>1</td>\n",
              "      <td>7634da152a4610f1595efa32f14722fc</td>\n",
              "      <td>12.99</td>\n",
              "      <td>perfume</td>\n",
              "    </tr>\n",
              "    <tr>\n",
              "      <th>4</th>\n",
              "      <td>00042b26cf59d7ce69dfabb4e55b4fd9</td>\n",
              "      <td>1</td>\n",
              "      <td>ac6c3623068f30de03045865e4e10089</td>\n",
              "      <td>199.90</td>\n",
              "      <td>garden_tools</td>\n",
              "    </tr>\n",
              "  </tbody>\n",
              "</table>\n",
              "</div>"
            ],
            "text/plain": [
              "                           order_id  ...  product_category_name_english\n",
              "0  00010242fe8c5a6d1ba2dd792cb16214  ...                     cool_stuff\n",
              "1  00018f77f2f0320c557190d7a144bdd3  ...                       pet_shop\n",
              "2  000229ec398224ef6ca0657da4fc703e  ...                furniture_decor\n",
              "3  00024acbcdf0a6daa1e931b038114c75  ...                        perfume\n",
              "4  00042b26cf59d7ce69dfabb4e55b4fd9  ...                   garden_tools\n",
              "\n",
              "[5 rows x 5 columns]"
            ]
          },
          "metadata": {
            "tags": []
          },
          "execution_count": 27
        }
      ]
    },
    {
      "cell_type": "code",
      "metadata": {
        "id": "S0DEdAgkfke2",
        "colab_type": "code",
        "colab": {
          "base_uri": "https://localhost:8080/",
          "height": 34
        },
        "outputId": "fce5b96e-ba6d-4e58-ad89-c01d93da570f"
      },
      "source": [
        "# Print number of unique items.\n",
        "print(len(orders['product_id'].unique()))"
      ],
      "execution_count": null,
      "outputs": [
        {
          "output_type": "stream",
          "text": [
            "32328\n"
          ],
          "name": "stdout"
        }
      ]
    },
    {
      "cell_type": "code",
      "metadata": {
        "id": "sp_ZZcj7IEMD",
        "colab_type": "code",
        "colab": {
          "base_uri": "https://localhost:8080/",
          "height": 34
        },
        "outputId": "fae9aa4a-5973-48bb-efd8-f3c1de69178e"
      },
      "source": [
        "# Print number of unique categories.\n",
        "print(len(orders['product_category_name_english'].unique()))"
      ],
      "execution_count": null,
      "outputs": [
        {
          "output_type": "stream",
          "text": [
            "71\n"
          ],
          "name": "stdout"
        }
      ]
    },
    {
      "cell_type": "markdown",
      "metadata": {
        "id": "Yxp4Dk15IP9g",
        "colab_type": "text"
      },
      "source": [
        "**Insight**: Performing \"aggregation\" up to the product category level reduces the number of potential itemsets from $2^{32328}$ to $2^{71}$."
      ]
    },
    {
      "cell_type": "markdown",
      "metadata": {
        "id": "_z5WqVXFIn23",
        "colab_type": "text"
      },
      "source": [
        "### **Construct transactions from order and product data**"
      ]
    },
    {
      "cell_type": "code",
      "metadata": {
        "id": "LObvSR1bfs8N",
        "colab_type": "code",
        "colab": {
          "base_uri": "https://localhost:8080/",
          "height": 34
        },
        "outputId": "9786c8fd-ec78-4e15-e037-c79dc1910032"
      },
      "source": [
        "# Get set of order ids.\n",
        "order_ids = orders['order_id'].unique().tolist()\n",
        "\n",
        "# Identify transactions associated with example order.\n",
        "example1 = orders[orders['order_id'] == 'fe64170e936bc5f6a6a41def260984b9']['product_category_name_english']\n",
        "\n",
        "# Join products together, separating each with a semi-colon.\n",
        "example1 = ';'.join(example1)\n",
        "\n",
        "# Print example.\n",
        "print(example1)"
      ],
      "execution_count": null,
      "outputs": [
        {
          "output_type": "stream",
          "text": [
            "bed_bath_table;furniture_decor\n"
          ],
          "name": "stdout"
        }
      ]
    },
    {
      "cell_type": "code",
      "metadata": {
        "id": "B2EEHJpPWOVJ",
        "colab_type": "code",
        "colab": {
          "base_uri": "https://localhost:8080/",
          "height": 34
        },
        "outputId": "46bbb2b3-b388-416c-b118-4f0baa65afc8"
      },
      "source": [
        "# Identify transactions associated with example order.\n",
        "example2 = orders[orders['order_id'] == 'fffb9224b6fc7c43ebb0904318b10b5f']['product_category_name_english']\n",
        "\n",
        "# Join products together, separating each with a semi-colon.\n",
        "example2 = ';'.join(example2)\n",
        "\n",
        "# Print example.\n",
        "print(example2)"
      ],
      "execution_count": null,
      "outputs": [
        {
          "output_type": "stream",
          "text": [
            "watches_gifts;watches_gifts;watches_gifts;watches_gifts\n"
          ],
          "name": "stdout"
        }
      ]
    },
    {
      "cell_type": "markdown",
      "metadata": {
        "id": "n83EDUs0Wa_2",
        "colab_type": "text"
      },
      "source": [
        "**Insight**: Aggregation reduces the number of items and, therefore, itemsets."
      ]
    },
    {
      "cell_type": "code",
      "metadata": {
        "id": "nXES2DJ3Ry8l",
        "colab_type": "code",
        "colab": {
          "base_uri": "https://localhost:8080/",
          "height": 204
        },
        "outputId": "ef0c09ef-75b8-4d67-94a6-fc2073e6ed90"
      },
      "source": [
        "# Define empty list of transactions.\n",
        "transactions = []\n",
        "\n",
        "# Iterate over example list of 10 ids.\n",
        "for order in order_ids[:10]:\n",
        "\ttransactions.append(';'.join(orders[orders['order_id'] == order]['product_category_name_english']))\n",
        "\n",
        "# Convert to DataFrame.\n",
        "transactions = pd.DataFrame(transactions, columns = ['transactions'])\n",
        "\n",
        "# Print preview of transactions.\n",
        "transactions.head()"
      ],
      "execution_count": null,
      "outputs": [
        {
          "output_type": "execute_result",
          "data": {
            "text/html": [
              "<div>\n",
              "<style scoped>\n",
              "    .dataframe tbody tr th:only-of-type {\n",
              "        vertical-align: middle;\n",
              "    }\n",
              "\n",
              "    .dataframe tbody tr th {\n",
              "        vertical-align: top;\n",
              "    }\n",
              "\n",
              "    .dataframe thead th {\n",
              "        text-align: right;\n",
              "    }\n",
              "</style>\n",
              "<table border=\"1\" class=\"dataframe\">\n",
              "  <thead>\n",
              "    <tr style=\"text-align: right;\">\n",
              "      <th></th>\n",
              "      <th>transactions</th>\n",
              "    </tr>\n",
              "  </thead>\n",
              "  <tbody>\n",
              "    <tr>\n",
              "      <th>0</th>\n",
              "      <td>cool_stuff</td>\n",
              "    </tr>\n",
              "    <tr>\n",
              "      <th>1</th>\n",
              "      <td>pet_shop</td>\n",
              "    </tr>\n",
              "    <tr>\n",
              "      <th>2</th>\n",
              "      <td>furniture_decor</td>\n",
              "    </tr>\n",
              "    <tr>\n",
              "      <th>3</th>\n",
              "      <td>perfume</td>\n",
              "    </tr>\n",
              "    <tr>\n",
              "      <th>4</th>\n",
              "      <td>garden_tools</td>\n",
              "    </tr>\n",
              "  </tbody>\n",
              "</table>\n",
              "</div>"
            ],
            "text/plain": [
              "      transactions\n",
              "0       cool_stuff\n",
              "1         pet_shop\n",
              "2  furniture_decor\n",
              "3          perfume\n",
              "4     garden_tools"
            ]
          },
          "metadata": {
            "tags": []
          },
          "execution_count": 67
        }
      ]
    },
    {
      "cell_type": "markdown",
      "metadata": {
        "id": "lzvvQPcVJKpp",
        "colab_type": "text"
      },
      "source": [
        "**To save time, we'll load the data directly.**"
      ]
    },
    {
      "cell_type": "code",
      "metadata": {
        "id": "YFZyGDFafxKX",
        "colab_type": "code",
        "colab": {}
      },
      "source": [
        "# Load transaction data.\n",
        "transactions = pd.read_csv(data_path + 'olist_transactions.csv')"
      ],
      "execution_count": null,
      "outputs": []
    },
    {
      "cell_type": "code",
      "metadata": {
        "id": "l06VMDNQfzqZ",
        "colab_type": "code",
        "colab": {
          "base_uri": "https://localhost:8080/",
          "height": 591
        },
        "outputId": "977c45b9-0a10-4fc8-85ca-7c032cfd8986"
      },
      "source": [
        "# Plot 50 largest categories of transactions.\n",
        "transactions['transactions'].value_counts()[0:50].plot(kind='bar', figsize=(15,5))"
      ],
      "execution_count": null,
      "outputs": [
        {
          "output_type": "execute_result",
          "data": {
            "text/plain": [
              "<matplotlib.axes._subplots.AxesSubplot at 0x7f70a2ba59e8>"
            ]
          },
          "metadata": {
            "tags": []
          },
          "execution_count": 69
        },
        {
          "output_type": "display_data",
          "data": {
            "image/png": "[encoded data removed]",
            "text/plain": [
              "<Figure size 1080x360 with 1 Axes>"
            ]
          },
          "metadata": {
            "tags": []
          }
        }
      ]
    },
    {
      "cell_type": "markdown",
      "metadata": {
        "id": "aDSZJBjJT3Iw",
        "colab_type": "text"
      },
      "source": [
        "**Insight 1:** Most transactions contain items from a single product category.\n",
        "\n",
        "**Insight 2:** There's a long tail of categories that consist of infrequently purchased items."
      ]
    },
    {
      "cell_type": "code",
      "metadata": {
        "id": "nrBBAg9kf5R1",
        "colab_type": "code",
        "colab": {}
      },
      "source": [
        "# Convert the DataFrame column to list of lists.\n",
        "transactions = transactions['transactions'].tolist()\n",
        "\n",
        "# Convert list items into lists.\n",
        "transactions = [list(transaction.split(';')) for transaction in transactions]\n",
        "\n",
        "# Convert to set and then list.\n",
        "transactions = [list(set(transaction)) for transaction in transactions]"
      ],
      "execution_count": null,
      "outputs": []
    },
    {
      "cell_type": "markdown",
      "metadata": {
        "id": "J_JdOGzOVUed",
        "colab_type": "text"
      },
      "source": [
        "### **Summarize final transaction data**"
      ]
    },
    {
      "cell_type": "code",
      "metadata": {
        "id": "bZm2vOczf7mB",
        "colab_type": "code",
        "colab": {
          "base_uri": "https://localhost:8080/",
          "height": 68
        },
        "outputId": "c1f3948e-fa89-4425-ea64-a26cc8552bc2"
      },
      "source": [
        "# Print length of list.\n",
        "print('Number of Transactions:', len(transactions))\n",
        "\n",
        "# Count number of unique item categories for each transaction.\n",
        "counts = [len(transaction) for transaction in transactions]\n",
        "\n",
        "# Print median and max length.\n",
        "print('Median Length:', np.median(counts))\n",
        "\n",
        "# Print maximum transaction length.\n",
        "print('Maximum Length:', np.max(counts))"
      ],
      "execution_count": null,
      "outputs": [
        {
          "output_type": "stream",
          "text": [
            "Number of Transactions: 97256\n",
            "Median Length: 1.0\n",
            "Maximum Length: 3\n"
          ],
          "name": "stdout"
        }
      ]
    },
    {
      "cell_type": "markdown",
      "metadata": {
        "id": "tXqmKHdXiCt6",
        "colab_type": "text"
      },
      "source": [
        "## **Association Rules and Metrics**"
      ]
    },
    {
      "cell_type": "markdown",
      "metadata": {
        "id": "RQnsrXg7aKgS",
        "colab_type": "text"
      },
      "source": [
        "**Association rule:** an \"if-then\" relationship between two itemsets.\n",
        "  * **rule:** if *{coffee)* then *{milk}*.\n",
        "  * **antecedent:** coffee\n",
        "  * **consequent:** milk\n",
        "\n",
        "**Metric:** a measure of the strength of association between two itemsets.\n",
        "  * **rule:** if *{coffee)* then *{milk}*\n",
        "  * **support:** 0.10\n",
        "  * **leverage:** 0.03\n",
        "\n"
      ]
    },
    {
      "cell_type": "markdown",
      "metadata": {
        "id": "QbFpAuLocyqt",
        "colab_type": "text"
      },
      "source": [
        "### **One-hot encode the transaction data**"
      ]
    },
    {
      "cell_type": "code",
      "metadata": {
        "id": "PADu6cwylDWC",
        "colab_type": "code",
        "colab": {}
      },
      "source": [
        "from mlxtend.preprocessing import TransactionEncoder\n",
        "\n",
        "# Instantiate an encoder.\n",
        "encoder = TransactionEncoder()\n",
        "\n",
        "# Fit encoder to list of lists.\n",
        "encoder.fit(transactions)\n",
        "\n",
        "# Transform lists into one-hot encoded array.\n",
        "onehot = encoder.transform(transactions)\n",
        "\n",
        "# Convert array to pandas DataFrame.\n",
        "onehot = pd.DataFrame(onehot, columns = encoder.columns_)"
      ],
      "execution_count": null,
      "outputs": []
    },
    {
      "cell_type": "code",
      "metadata": {
        "id": "uXvgq0wclEZ_",
        "colab_type": "code",
        "colab": {
          "base_uri": "https://localhost:8080/",
          "height": 224
        },
        "outputId": "27e9f7b8-6e82-4dfc-e062-a181e6069509"
      },
      "source": [
        "# Print DataFrame header.\n",
        "onehot.head()"
      ],
      "execution_count": null,
      "outputs": [
        {
          "output_type": "execute_result",
          "data": {
            "text/html": [
              "<div>\n",
              "<style scoped>\n",
              "    .dataframe tbody tr th:only-of-type {\n",
              "        vertical-align: middle;\n",
              "    }\n",
              "\n",
              "    .dataframe tbody tr th {\n",
              "        vertical-align: top;\n",
              "    }\n",
              "\n",
              "    .dataframe thead th {\n",
              "        text-align: right;\n",
              "    }\n",
              "</style>\n",
              "<table border=\"1\" class=\"dataframe\">\n",
              "  <thead>\n",
              "    <tr style=\"text-align: right;\">\n",
              "      <th></th>\n",
              "      <th>agro_industry_and_commerce</th>\n",
              "      <th>air_conditioning</th>\n",
              "      <th>art</th>\n",
              "      <th>arts_and_crafts</th>\n",
              "      <th>audio</th>\n",
              "      <th>auto</th>\n",
              "      <th>baby</th>\n",
              "      <th>bed_bath_table</th>\n",
              "      <th>books_general_interest</th>\n",
              "      <th>books_imported</th>\n",
              "      <th>books_technical</th>\n",
              "      <th>cds_dvds_music</th>\n",
              "      <th>christmas_supplies</th>\n",
              "      <th>cine_photo</th>\n",
              "      <th>computers</th>\n",
              "      <th>computers_accessories</th>\n",
              "      <th>consoles_games</th>\n",
              "      <th>construction_tools_construction</th>\n",
              "      <th>construction_tools_lights</th>\n",
              "      <th>construction_tools_safety</th>\n",
              "      <th>cool_stuff</th>\n",
              "      <th>costruction_tools_garden</th>\n",
              "      <th>costruction_tools_tools</th>\n",
              "      <th>cuisine</th>\n",
              "      <th>diapers_and_hygiene</th>\n",
              "      <th>drinks</th>\n",
              "      <th>dvds_blu_ray</th>\n",
              "      <th>electronics</th>\n",
              "      <th>fashion_bags_accessories</th>\n",
              "      <th>fashion_childrens_clothes</th>\n",
              "      <th>fashion_female_clothing</th>\n",
              "      <th>fashion_male_clothing</th>\n",
              "      <th>fashion_shoes</th>\n",
              "      <th>fashion_sport</th>\n",
              "      <th>fashion_underwear_beach</th>\n",
              "      <th>fixed_telephony</th>\n",
              "      <th>flowers</th>\n",
              "      <th>food</th>\n",
              "      <th>food_drink</th>\n",
              "      <th>furniture_bedroom</th>\n",
              "      <th>furniture_decor</th>\n",
              "      <th>furniture_living_room</th>\n",
              "      <th>furniture_mattress_and_upholstery</th>\n",
              "      <th>garden_tools</th>\n",
              "      <th>health_beauty</th>\n",
              "      <th>home_appliances</th>\n",
              "      <th>home_appliances_2</th>\n",
              "      <th>home_comfort</th>\n",
              "      <th>home_comfort_2</th>\n",
              "      <th>home_construction</th>\n",
              "      <th>housewares</th>\n",
              "      <th>industry_commerce_and_business</th>\n",
              "      <th>kitchen_dining_laundry_garden_furniture</th>\n",
              "      <th>luggage_accessories</th>\n",
              "      <th>market_place</th>\n",
              "      <th>music</th>\n",
              "      <th>musical_instruments</th>\n",
              "      <th>office_furniture</th>\n",
              "      <th>party_supplies</th>\n",
              "      <th>perfume</th>\n",
              "      <th>pet_shop</th>\n",
              "      <th>security_and_services</th>\n",
              "      <th>signaling_and_security</th>\n",
              "      <th>small_appliances</th>\n",
              "      <th>small_appliances_home_oven_and_coffee</th>\n",
              "      <th>sports_leisure</th>\n",
              "      <th>stationery</th>\n",
              "      <th>tablets_printing_image</th>\n",
              "      <th>telephony</th>\n",
              "      <th>toys</th>\n",
              "      <th>watches_gifts</th>\n",
              "    </tr>\n",
              "  </thead>\n",
              "  <tbody>\n",
              "    <tr>\n",
              "      <th>0</th>\n",
              "      <td>False</td>\n",
              "      <td>False</td>\n",
              "      <td>False</td>\n",
              "      <td>False</td>\n",
              "      <td>False</td>\n",
              "      <td>False</td>\n",
              "      <td>False</td>\n",
              "      <td>False</td>\n",
              "      <td>False</td>\n",
              "      <td>False</td>\n",
              "      <td>False</td>\n",
              "      <td>False</td>\n",
              "      <td>False</td>\n",
              "      <td>False</td>\n",
              "      <td>False</td>\n",
              "      <td>False</td>\n",
              "      <td>False</td>\n",
              "      <td>False</td>\n",
              "      <td>False</td>\n",
              "      <td>False</td>\n",
              "      <td>True</td>\n",
              "      <td>False</td>\n",
              "      <td>False</td>\n",
              "      <td>False</td>\n",
              "      <td>False</td>\n",
              "      <td>False</td>\n",
              "      <td>False</td>\n",
              "      <td>False</td>\n",
              "      <td>False</td>\n",
              "      <td>False</td>\n",
              "      <td>False</td>\n",
              "      <td>False</td>\n",
              "      <td>False</td>\n",
              "      <td>False</td>\n",
              "      <td>False</td>\n",
              "      <td>False</td>\n",
              "      <td>False</td>\n",
              "      <td>False</td>\n",
              "      <td>False</td>\n",
              "      <td>False</td>\n",
              "      <td>False</td>\n",
              "      <td>False</td>\n",
              "      <td>False</td>\n",
              "      <td>False</td>\n",
              "      <td>False</td>\n",
              "      <td>False</td>\n",
              "      <td>False</td>\n",
              "      <td>False</td>\n",
              "      <td>False</td>\n",
              "      <td>False</td>\n",
              "      <td>False</td>\n",
              "      <td>False</td>\n",
              "      <td>False</td>\n",
              "      <td>False</td>\n",
              "      <td>False</td>\n",
              "      <td>False</td>\n",
              "      <td>False</td>\n",
              "      <td>False</td>\n",
              "      <td>False</td>\n",
              "      <td>False</td>\n",
              "      <td>False</td>\n",
              "      <td>False</td>\n",
              "      <td>False</td>\n",
              "      <td>False</td>\n",
              "      <td>False</td>\n",
              "      <td>False</td>\n",
              "      <td>False</td>\n",
              "      <td>False</td>\n",
              "      <td>False</td>\n",
              "      <td>False</td>\n",
              "      <td>False</td>\n",
              "    </tr>\n",
              "    <tr>\n",
              "      <th>1</th>\n",
              "      <td>False</td>\n",
              "      <td>False</td>\n",
              "      <td>False</td>\n",
              "      <td>False</td>\n",
              "      <td>False</td>\n",
              "      <td>False</td>\n",
              "      <td>False</td>\n",
              "      <td>False</td>\n",
              "      <td>False</td>\n",
              "      <td>False</td>\n",
              "      <td>False</td>\n",
              "      <td>False</td>\n",
              "      <td>False</td>\n",
              "      <td>False</td>\n",
              "      <td>False</td>\n",
              "      <td>False</td>\n",
              "      <td>False</td>\n",
              "      <td>False</td>\n",
              "      <td>False</td>\n",
              "      <td>False</td>\n",
              "      <td>False</td>\n",
              "      <td>False</td>\n",
              "      <td>False</td>\n",
              "      <td>False</td>\n",
              "      <td>False</td>\n",
              "      <td>False</td>\n",
              "      <td>False</td>\n",
              "      <td>False</td>\n",
              "      <td>False</td>\n",
              "      <td>False</td>\n",
              "      <td>False</td>\n",
              "      <td>False</td>\n",
              "      <td>False</td>\n",
              "      <td>False</td>\n",
              "      <td>False</td>\n",
              "      <td>False</td>\n",
              "      <td>False</td>\n",
              "      <td>False</td>\n",
              "      <td>False</td>\n",
              "      <td>False</td>\n",
              "      <td>False</td>\n",
              "      <td>False</td>\n",
              "      <td>False</td>\n",
              "      <td>False</td>\n",
              "      <td>False</td>\n",
              "      <td>False</td>\n",
              "      <td>False</td>\n",
              "      <td>False</td>\n",
              "      <td>False</td>\n",
              "      <td>False</td>\n",
              "      <td>False</td>\n",
              "      <td>False</td>\n",
              "      <td>False</td>\n",
              "      <td>False</td>\n",
              "      <td>False</td>\n",
              "      <td>False</td>\n",
              "      <td>False</td>\n",
              "      <td>False</td>\n",
              "      <td>False</td>\n",
              "      <td>False</td>\n",
              "      <td>True</td>\n",
              "      <td>False</td>\n",
              "      <td>False</td>\n",
              "      <td>False</td>\n",
              "      <td>False</td>\n",
              "      <td>False</td>\n",
              "      <td>False</td>\n",
              "      <td>False</td>\n",
              "      <td>False</td>\n",
              "      <td>False</td>\n",
              "      <td>False</td>\n",
              "    </tr>\n",
              "    <tr>\n",
              "      <th>2</th>\n",
              "      <td>False</td>\n",
              "      <td>False</td>\n",
              "      <td>False</td>\n",
              "      <td>False</td>\n",
              "      <td>False</td>\n",
              "      <td>False</td>\n",
              "      <td>False</td>\n",
              "      <td>False</td>\n",
              "      <td>False</td>\n",
              "      <td>False</td>\n",
              "      <td>False</td>\n",
              "      <td>False</td>\n",
              "      <td>False</td>\n",
              "      <td>False</td>\n",
              "      <td>False</td>\n",
              "      <td>False</td>\n",
              "      <td>False</td>\n",
              "      <td>False</td>\n",
              "      <td>False</td>\n",
              "      <td>False</td>\n",
              "      <td>False</td>\n",
              "      <td>False</td>\n",
              "      <td>False</td>\n",
              "      <td>False</td>\n",
              "      <td>False</td>\n",
              "      <td>False</td>\n",
              "      <td>False</td>\n",
              "      <td>False</td>\n",
              "      <td>False</td>\n",
              "      <td>False</td>\n",
              "      <td>False</td>\n",
              "      <td>False</td>\n",
              "      <td>False</td>\n",
              "      <td>False</td>\n",
              "      <td>False</td>\n",
              "      <td>False</td>\n",
              "      <td>False</td>\n",
              "      <td>False</td>\n",
              "      <td>False</td>\n",
              "      <td>False</td>\n",
              "      <td>True</td>\n",
              "      <td>False</td>\n",
              "      <td>False</td>\n",
              "      <td>False</td>\n",
              "      <td>False</td>\n",
              "      <td>False</td>\n",
              "      <td>False</td>\n",
              "      <td>False</td>\n",
              "      <td>False</td>\n",
              "      <td>False</td>\n",
              "      <td>False</td>\n",
              "      <td>False</td>\n",
              "      <td>False</td>\n",
              "      <td>False</td>\n",
              "      <td>False</td>\n",
              "      <td>False</td>\n",
              "      <td>False</td>\n",
              "      <td>False</td>\n",
              "      <td>False</td>\n",
              "      <td>False</td>\n",
              "      <td>False</td>\n",
              "      <td>False</td>\n",
              "      <td>False</td>\n",
              "      <td>False</td>\n",
              "      <td>False</td>\n",
              "      <td>False</td>\n",
              "      <td>False</td>\n",
              "      <td>False</td>\n",
              "      <td>False</td>\n",
              "      <td>False</td>\n",
              "      <td>False</td>\n",
              "    </tr>\n",
              "    <tr>\n",
              "      <th>3</th>\n",
              "      <td>False</td>\n",
              "      <td>False</td>\n",
              "      <td>False</td>\n",
              "      <td>False</td>\n",
              "      <td>False</td>\n",
              "      <td>False</td>\n",
              "      <td>False</td>\n",
              "      <td>False</td>\n",
              "      <td>False</td>\n",
              "      <td>False</td>\n",
              "      <td>False</td>\n",
              "      <td>False</td>\n",
              "      <td>False</td>\n",
              "      <td>False</td>\n",
              "      <td>False</td>\n",
              "      <td>False</td>\n",
              "      <td>False</td>\n",
              "      <td>False</td>\n",
              "      <td>False</td>\n",
              "      <td>False</td>\n",
              "      <td>False</td>\n",
              "      <td>False</td>\n",
              "      <td>False</td>\n",
              "      <td>False</td>\n",
              "      <td>False</td>\n",
              "      <td>False</td>\n",
              "      <td>False</td>\n",
              "      <td>False</td>\n",
              "      <td>False</td>\n",
              "      <td>False</td>\n",
              "      <td>False</td>\n",
              "      <td>False</td>\n",
              "      <td>False</td>\n",
              "      <td>False</td>\n",
              "      <td>False</td>\n",
              "      <td>False</td>\n",
              "      <td>False</td>\n",
              "      <td>False</td>\n",
              "      <td>False</td>\n",
              "      <td>False</td>\n",
              "      <td>False</td>\n",
              "      <td>False</td>\n",
              "      <td>False</td>\n",
              "      <td>False</td>\n",
              "      <td>False</td>\n",
              "      <td>False</td>\n",
              "      <td>False</td>\n",
              "      <td>False</td>\n",
              "      <td>False</td>\n",
              "      <td>False</td>\n",
              "      <td>False</td>\n",
              "      <td>False</td>\n",
              "      <td>False</td>\n",
              "      <td>False</td>\n",
              "      <td>False</td>\n",
              "      <td>False</td>\n",
              "      <td>False</td>\n",
              "      <td>False</td>\n",
              "      <td>False</td>\n",
              "      <td>True</td>\n",
              "      <td>False</td>\n",
              "      <td>False</td>\n",
              "      <td>False</td>\n",
              "      <td>False</td>\n",
              "      <td>False</td>\n",
              "      <td>False</td>\n",
              "      <td>False</td>\n",
              "      <td>False</td>\n",
              "      <td>False</td>\n",
              "      <td>False</td>\n",
              "      <td>False</td>\n",
              "    </tr>\n",
              "    <tr>\n",
              "      <th>4</th>\n",
              "      <td>False</td>\n",
              "      <td>False</td>\n",
              "      <td>False</td>\n",
              "      <td>False</td>\n",
              "      <td>False</td>\n",
              "      <td>False</td>\n",
              "      <td>False</td>\n",
              "      <td>False</td>\n",
              "      <td>False</td>\n",
              "      <td>False</td>\n",
              "      <td>False</td>\n",
              "      <td>False</td>\n",
              "      <td>False</td>\n",
              "      <td>False</td>\n",
              "      <td>False</td>\n",
              "      <td>False</td>\n",
              "      <td>False</td>\n",
              "      <td>False</td>\n",
              "      <td>False</td>\n",
              "      <td>False</td>\n",
              "      <td>False</td>\n",
              "      <td>False</td>\n",
              "      <td>False</td>\n",
              "      <td>False</td>\n",
              "      <td>False</td>\n",
              "      <td>False</td>\n",
              "      <td>False</td>\n",
              "      <td>False</td>\n",
              "      <td>False</td>\n",
              "      <td>False</td>\n",
              "      <td>False</td>\n",
              "      <td>False</td>\n",
              "      <td>False</td>\n",
              "      <td>False</td>\n",
              "      <td>False</td>\n",
              "      <td>False</td>\n",
              "      <td>False</td>\n",
              "      <td>False</td>\n",
              "      <td>False</td>\n",
              "      <td>False</td>\n",
              "      <td>False</td>\n",
              "      <td>False</td>\n",
              "      <td>False</td>\n",
              "      <td>True</td>\n",
              "      <td>False</td>\n",
              "      <td>False</td>\n",
              "      <td>False</td>\n",
              "      <td>False</td>\n",
              "      <td>False</td>\n",
              "      <td>False</td>\n",
              "      <td>False</td>\n",
              "      <td>False</td>\n",
              "      <td>False</td>\n",
              "      <td>False</td>\n",
              "      <td>False</td>\n",
              "      <td>False</td>\n",
              "      <td>False</td>\n",
              "      <td>False</td>\n",
              "      <td>False</td>\n",
              "      <td>False</td>\n",
              "      <td>False</td>\n",
              "      <td>False</td>\n",
              "      <td>False</td>\n",
              "      <td>False</td>\n",
              "      <td>False</td>\n",
              "      <td>False</td>\n",
              "      <td>False</td>\n",
              "      <td>False</td>\n",
              "      <td>False</td>\n",
              "      <td>False</td>\n",
              "      <td>False</td>\n",
              "    </tr>\n",
              "  </tbody>\n",
              "</table>\n",
              "</div>"
            ],
            "text/plain": [
              "   agro_industry_and_commerce  air_conditioning  ...   toys  watches_gifts\n",
              "0                       False             False  ...  False          False\n",
              "1                       False             False  ...  False          False\n",
              "2                       False             False  ...  False          False\n",
              "3                       False             False  ...  False          False\n",
              "4                       False             False  ...  False          False\n",
              "\n",
              "[5 rows x 71 columns]"
            ]
          },
          "metadata": {
            "tags": []
          },
          "execution_count": 73
        }
      ]
    },
    {
      "cell_type": "markdown",
      "metadata": {
        "id": "OwtbFHDxdPzh",
        "colab_type": "text"
      },
      "source": [
        "**Insight**: Applying one-hot encoding transformed the list of lists (of transactions) into a `DataFrame`. The columns correspond to item categories and the rows correspond to transactions. A true indicates that a transaction contains an item from the corresponding category."
      ]
    },
    {
      "cell_type": "markdown",
      "metadata": {
        "id": "QcQf1RW7ffzc",
        "colab_type": "text"
      },
      "source": [
        "\n",
        "### **Compute the support metric**\n",
        "\n",
        "$$support(X) = \\frac{\\text{number of transactions containing X}}{\\text{total number of transactions}}$$"
      ]
    },
    {
      "cell_type": "code",
      "metadata": {
        "id": "n3E8jFSelMRj",
        "colab_type": "code",
        "colab": {
          "base_uri": "https://localhost:8080/",
          "height": 221
        },
        "outputId": "5a0e90f8-98a4-4303-d5cc-7ddc6c0c117c"
      },
      "source": [
        "# Print support metric over all rows for each column.\n",
        "print(onehot.mean(axis=0))"
      ],
      "execution_count": null,
      "outputs": [
        {
          "output_type": "stream",
          "text": [
            "agro_industry_and_commerce      0.001871\n",
            "air_conditioning                0.002601\n",
            "art                             0.002077\n",
            "arts_and_crafts                 0.000236\n",
            "audio                           0.003599\n",
            "                                  ...   \n",
            "tablets_printing_image          0.000812\n",
            "telephony                       0.043175\n",
            "toys                            0.039956\n",
            "watches_gifts                   0.057827\n",
            "sports_leisure_health_beauty    0.000144\n",
            "Length: 72, dtype: float64\n"
          ],
          "name": "stdout"
        }
      ]
    },
    {
      "cell_type": "markdown",
      "metadata": {
        "id": "k4xq0z7IdwmS",
        "colab_type": "text"
      },
      "source": [
        "**Insight:** In retail and ecommerce settings, any particular item is likely to account for a small share of transactions. Here, we've aggregated up to the product category level and very popular categories are still only present in 5% of transactions. Consequently, itemsets with 2 or more item categories will account for a vanishingly small share of total transactions (e.g. 0.01%)."
      ]
    },
    {
      "cell_type": "markdown",
      "metadata": {
        "id": "7NNdtDOXiC8z",
        "colab_type": "text"
      },
      "source": [
        "### **Compute the item count distribution over transactions**"
      ]
    },
    {
      "cell_type": "code",
      "metadata": {
        "id": "q87IRIx0lR9U",
        "colab_type": "code",
        "colab": {
          "base_uri": "https://localhost:8080/",
          "height": 85
        },
        "outputId": "cbd24949-b105-455b-c778-6f9c14f7d1a2"
      },
      "source": [
        "# Print mean of all columns for each row.\n",
        "print(onehot.sum(axis=1).value_counts())"
      ],
      "execution_count": null,
      "outputs": [
        {
          "output_type": "stream",
          "text": [
            "1    96530\n",
            "2      711\n",
            "3       15\n",
            "dtype: int64\n"
          ],
          "name": "stdout"
        }
      ]
    },
    {
      "cell_type": "markdown",
      "metadata": {
        "id": "fWmrboxOhnr4",
        "colab_type": "text"
      },
      "source": [
        "**Insight:** Only 726 transactions contain more than one item category. We may want to consider whether aggregation discards too many multi-item itemsets."
      ]
    },
    {
      "cell_type": "markdown",
      "metadata": {
        "id": "fj7yQ2DqiQkh",
        "colab_type": "text"
      },
      "source": [
        "### **Create a column for an itemset with multiple items**"
      ]
    },
    {
      "cell_type": "code",
      "metadata": {
        "id": "immnq5stlWaf",
        "colab_type": "code",
        "colab": {
          "base_uri": "https://localhost:8080/",
          "height": 34
        },
        "outputId": "be80a65b-7b29-4f22-a104-185623ae0fd1"
      },
      "source": [
        "# Add sports_leisure and health_beauty to DataFrame.\n",
        "onehot['sports_leisure_health_beauty'] = np.logical_and(onehot['sports_leisure'], onehot['health_beauty'])\n",
        "\n",
        "# Print support value.\n",
        "print(onehot['sports_leisure_health_beauty'].mean(axis = 0))"
      ],
      "execution_count": null,
      "outputs": [
        {
          "output_type": "stream",
          "text": [
            "0.00014394998766142962\n"
          ],
          "name": "stdout"
        }
      ]
    },
    {
      "cell_type": "markdown",
      "metadata": {
        "id": "VHlEhjUuikdj",
        "colab_type": "text"
      },
      "source": [
        "**Insight:** Only 0.014% of transactions contain a product from both the sports and leisure, and health and beauty categories. These are typically the type of numbers we will work with when we set pruning thresholds in the following section."
      ]
    },
    {
      "cell_type": "markdown",
      "metadata": {
        "id": "BvoKwShnjC4z",
        "colab_type": "text"
      },
      "source": [
        "### **Aggregate the dataset further by combining product sub-categories**"
      ]
    },
    {
      "cell_type": "markdown",
      "metadata": {
        "id": "vHIEvm0zjLk7",
        "colab_type": "text"
      },
      "source": [
        "* **We can use `np.logical_or()` to combine multiple categories.**\n",
        "  * `np.logical_or(True, True) = True`\n",
        "  * `np.logical_or(True, False) = True`\n",
        "  * `np.logical_or(False, True) = True`\n",
        "  * `np.logical_or(False, False) = False`"
      ]
    },
    {
      "cell_type": "code",
      "metadata": {
        "id": "qLGroyNZlX1U",
        "colab_type": "code",
        "colab": {
          "base_uri": "https://localhost:8080/",
          "height": 102
        },
        "outputId": "7fdad9fa-9aea-40e5-8b9b-280483a6be98"
      },
      "source": [
        "# Merge imported and general interest books.\n",
        "onehot['books'] = np.logical_or(onehot['books_imported'], onehot['books_general_interest'])\n",
        "\n",
        "# Merge books and technical books.\n",
        "onehot['books'] = np.logical_or(onehot['books'], onehot['books_technical'])\n",
        "\n",
        "# Print support values.\n",
        "print(onehot[['books','books_imported','books_general_interest','books_technical']].mean(axis=0))"
      ],
      "execution_count": null,
      "outputs": [
        {
          "output_type": "stream",
          "text": [
            "books                     0.008483\n",
            "books_imported            0.000545\n",
            "books_general_interest    0.005264\n",
            "books_technical           0.002673\n",
            "dtype: float64\n"
          ],
          "name": "stdout"
        }
      ]
    },
    {
      "cell_type": "markdown",
      "metadata": {
        "id": "9E2CHkMfqHx8",
        "colab_type": "text"
      },
      "source": [
        "### **Compute the confidence metric**"
      ]
    },
    {
      "cell_type": "markdown",
      "metadata": {
        "id": "vcPL0Iy3rY2m",
        "colab_type": "text"
      },
      "source": [
        "**The support metric doesn't provide information about direction.**\n",
        "  * $support(antecedent, consequent) = support(consequent, antecedent)$\n",
        "\n",
        "**The confidence metric has a direction.**\n",
        "  * Conditional probability of the consequent, given the antecedent."
      ]
    },
    {
      "cell_type": "markdown",
      "metadata": {
        "id": "C2JLWdbnr8Nl",
        "colab_type": "text"
      },
      "source": [
        "$$confidence(antecedent \\rightarrow consequent)= \\frac{support(antecedent, consequent)}{support(antecedent)}$$"
      ]
    },
    {
      "cell_type": "code",
      "metadata": {
        "id": "US-Z5hs7qGFl",
        "colab_type": "code",
        "colab": {
          "base_uri": "https://localhost:8080/",
          "height": 34
        },
        "outputId": "0a89606f-ebf4-43c2-a11f-8b3f98123343"
      },
      "source": [
        "# Compute joint support.\n",
        "joint_support = np.logical_and(onehot['sports_leisure'], onehot['health_beauty']).mean()\n",
        "\n",
        "# Compute antecedent support.\n",
        "antecedent_support = onehot['sports_leisure'].mean()\n",
        "\n",
        "# Compute confidence.\n",
        "confidence_metric = joint_support / antecedent_support\n",
        "\n",
        "# Print confidence metric.\n",
        "print(confidence_metric)"
      ],
      "execution_count": null,
      "outputs": [
        {
          "output_type": "stream",
          "text": [
            "0.0018134715025906734\n"
          ],
          "name": "stdout"
        }
      ]
    },
    {
      "cell_type": "code",
      "metadata": {
        "id": "oRacycCMtKeh",
        "colab_type": "code",
        "colab": {}
      },
      "source": [
        "# Define function to compute confidence.\n",
        "def confidence(antecedent, consequent, data = onehot):\n",
        "\tjoint_support = np.logical_and(data[antecedent], data[consequent]).mean()\n",
        "\tantecedent_support = data[antecedent].mean()\n",
        "\treturn joint_support / antecedent_support"
      ],
      "execution_count": null,
      "outputs": []
    },
    {
      "cell_type": "code",
      "metadata": {
        "id": "lc_ktQv7lZsJ",
        "colab_type": "code",
        "colab": {
          "base_uri": "https://localhost:8080/",
          "height": 34
        },
        "outputId": "487d02ad-4ec8-4699-ffa7-99aa7023f8f4"
      },
      "source": [
        "# Compute confidence(health_beauty -> sports_leisure)\n",
        "confidence('health_beauty','sports_leisure')"
      ],
      "execution_count": null,
      "outputs": [
        {
          "output_type": "execute_result",
          "data": {
            "text/plain": [
              "0.0015844273426889996"
            ]
          },
          "metadata": {
            "tags": []
          },
          "execution_count": 91
        }
      ]
    },
    {
      "cell_type": "markdown",
      "metadata": {
        "id": "QC_SuQBMtRsa",
        "colab_type": "text"
      },
      "source": [
        "**Insight:** $confidence(sports\\_leisure \\rightarrow health\\_beauty)$ was higher than $confidence(health\\_beauty \\rightarrow sports\\_leisure)$. Since the two have the same joint support, the confidence measures will differ only by the antecedent support. The higher confidence metric means that the antecedent has *lower* support."
      ]
    },
    {
      "cell_type": "markdown",
      "metadata": {
        "id": "iKm1vKDFldpt",
        "colab_type": "text"
      },
      "source": [
        "---\n",
        "<center><h1> Q&A 2</h1> </center>\n",
        "\n",
        "---"
      ]
    },
    {
      "cell_type": "markdown",
      "metadata": {
        "id": "kXwJcMyViCcW",
        "colab_type": "text"
      },
      "source": [
        "## **The Apriori Algorithm and Pruning**"
      ]
    },
    {
      "cell_type": "markdown",
      "metadata": {
        "id": "h7JGKJX3wsYK",
        "colab_type": "text"
      },
      "source": [
        "**The Apriori algorithm** identifies frequent (high support) itemsets using something called the Apriori principle, which states that a superset that contains an infrequent item is also infrequent.\n",
        "\n",
        "\n",
        "**Pruning** is the process of removing itemsets or association rules, typically based on the application of a metric threshold. "
      ]
    },
    {
      "cell_type": "markdown",
      "metadata": {
        "id": "Xru6-VBAwZz9",
        "colab_type": "text"
      },
      "source": [
        "![alt](https://github.com/datacamp/Market-Basket-Analysis-in-python-live-training/blob/master/assets/apriori_algorithm.png?raw=True)"
      ]
    },
    {
      "cell_type": "markdown",
      "metadata": {
        "id": "O-nGUl2Cx951",
        "colab_type": "text"
      },
      "source": [
        "**The `mlxtend` module will enable us to apply the Apriori algorithm, perform pruning, and compute association rules.**"
      ]
    },
    {
      "cell_type": "markdown",
      "metadata": {
        "id": "RPqHxNBczJFD",
        "colab_type": "text"
      },
      "source": [
        "### **Applying the Apriori algorithm**"
      ]
    },
    {
      "cell_type": "code",
      "metadata": {
        "id": "oTdaZ39VljgV",
        "colab_type": "code",
        "colab": {
          "base_uri": "https://localhost:8080/",
          "height": 391
        },
        "outputId": "bc7b7f94-9578-4a29-aec9-dde4e6704ad5"
      },
      "source": [
        "from mlxtend.frequent_patterns import apriori\n",
        "\n",
        "# Apply apriori algorithm to data.\n",
        "frequent_itemsets = apriori(onehot, min_support = 0.01)\n",
        "\n",
        "# Print frequent itemsets.\n",
        "print(frequent_itemsets)"
      ],
      "execution_count": null,
      "outputs": [
        {
          "output_type": "stream",
          "text": [
            "     support itemsets\n",
            "0   0.040070      (5)\n",
            "1   0.029664      (6)\n",
            "2   0.096827      (7)\n",
            "3   0.068777     (15)\n",
            "4   0.010920     (16)\n",
            "5   0.037345     (20)\n",
            "6   0.026219     (27)\n",
            "7   0.019166     (28)\n",
            "8   0.066310     (40)\n",
            "9   0.036173     (43)\n",
            "10  0.090853     (44)\n",
            "11  0.060500     (50)\n",
            "12  0.010632     (53)\n",
            "13  0.013089     (57)\n",
            "14  0.032512     (59)\n",
            "15  0.017582     (60)\n",
            "16  0.079378     (65)\n",
            "17  0.023762     (66)\n",
            "18  0.043175     (68)\n",
            "19  0.039956     (69)\n",
            "20  0.057827     (70)\n"
          ],
          "name": "stdout"
        }
      ]
    },
    {
      "cell_type": "markdown",
      "metadata": {
        "id": "iQ3gYEK2yPCi",
        "colab_type": "text"
      },
      "source": [
        "**Observation 1:** `apriori` returns a `DataFrame` with a `support` column and an `itemsets` column.\n",
        "\n",
        "**Observation 2:** By default `apriori` returns itemset numbers, rather than labels. We can change this by using the `use_colnames` parameter.\n",
        "\n",
        "**Insight:** All itemsets with a support of greater than 0.01 contain a single item."
      ]
    },
    {
      "cell_type": "code",
      "metadata": {
        "id": "L_MrF6Ckllde",
        "colab_type": "code",
        "colab": {
          "base_uri": "https://localhost:8080/",
          "height": 952
        },
        "outputId": "ddf4ebd1-657e-4673-ccd4-584146bf2228"
      },
      "source": [
        "# Apply apriori algorithm to data.\n",
        "frequent_itemsets = apriori(onehot, min_support = 0.001, use_colnames = True)\n",
        "\n",
        "# Print frequent itemsets.\n",
        "print(frequent_itemsets)"
      ],
      "execution_count": null,
      "outputs": [
        {
          "output_type": "stream",
          "text": [
            "     support                                   itemsets\n",
            "0   0.001871               (agro_industry_and_commerce)\n",
            "1   0.002601                         (air_conditioning)\n",
            "2   0.002077                                      (art)\n",
            "3   0.003599                                    (audio)\n",
            "4   0.040070                                     (auto)\n",
            "5   0.029664                                     (baby)\n",
            "6   0.096827                           (bed_bath_table)\n",
            "7   0.005264                   (books_general_interest)\n",
            "8   0.002673                          (books_technical)\n",
            "9   0.001316                       (christmas_supplies)\n",
            "10  0.001861                                (computers)\n",
            "11  0.068777                    (computers_accessories)\n",
            "12  0.010920                           (consoles_games)\n",
            "13  0.007691          (construction_tools_construction)\n",
            "14  0.002509                (construction_tools_lights)\n",
            "15  0.001717                (construction_tools_safety)\n",
            "16  0.037345                               (cool_stuff)\n",
            "17  0.001995                 (costruction_tools_garden)\n",
            "18  0.003054                                   (drinks)\n",
            "19  0.026219                              (electronics)\n",
            "20  0.019166                 (fashion_bags_accessories)\n",
            "21  0.001152                    (fashion_male_clothing)\n",
            "22  0.002468                            (fashion_shoes)\n",
            "23  0.001244                  (fashion_underwear_beach)\n",
            "24  0.002231                          (fixed_telephony)\n",
            "25  0.004627                                     (food)\n",
            "26  0.002334                               (food_drink)\n",
            "27  0.066310                          (furniture_decor)\n",
            "28  0.004339                    (furniture_living_room)\n",
            "29  0.036173                             (garden_tools)\n",
            "30  0.090853                            (health_beauty)\n",
            "31  0.007856                          (home_appliances)\n",
            "32  0.002406                        (home_appliances_2)\n",
            "33  0.004082                             (home_comfort)\n",
            "34  0.005038                        (home_construction)\n",
            "35  0.060500                               (housewares)\n",
            "36  0.002416           (industry_commerce_and_business)\n",
            "37  0.002550  (kitchen_dining_laundry_garden_furniture)\n",
            "38  0.010632                      (luggage_accessories)\n",
            "39  0.002879                             (market_place)\n",
            "40  0.006457                      (musical_instruments)\n",
            "41  0.013089                         (office_furniture)\n",
            "42  0.032512                                  (perfume)\n",
            "43  0.017582                                 (pet_shop)\n",
            "44  0.001439                   (signaling_and_security)\n",
            "45  0.006478                         (small_appliances)\n",
            "46  0.079378                           (sports_leisure)\n",
            "47  0.023762                               (stationery)\n",
            "48  0.043175                                (telephony)\n",
            "49  0.039956                                     (toys)\n",
            "50  0.057827                            (watches_gifts)\n",
            "51  0.008483                                    (books)\n",
            "52  0.005264            (books_general_interest, books)\n",
            "53  0.002673                   (books_technical, books)\n"
          ],
          "name": "stdout"
        }
      ]
    },
    {
      "cell_type": "markdown",
      "metadata": {
        "id": "jHkW8KmCyp0h",
        "colab_type": "text"
      },
      "source": [
        "**Insight:** Lowering the support threshold increased the number of itemsets returned and even yielded itemsets with more than one item."
      ]
    },
    {
      "cell_type": "code",
      "metadata": {
        "id": "lT7h9l_Glnf6",
        "colab_type": "code",
        "colab": {
          "base_uri": "https://localhost:8080/",
          "height": 255
        },
        "outputId": "cb99f17e-eba2-49ee-8b12-f3f9e0f2e77b"
      },
      "source": [
        "# Apply apriori algorithm to data.\n",
        "frequent_itemsets = apriori(onehot, min_support = 0.00005, use_colnames = True)\n",
        "\n",
        "# Print frequent itemsets.\n",
        "print(frequent_itemsets)"
      ],
      "execution_count": null,
      "outputs": [
        {
          "output_type": "stream",
          "text": [
            "      support                                           itemsets\n",
            "0    0.001871                       (agro_industry_and_commerce)\n",
            "1    0.002601                                 (air_conditioning)\n",
            "2    0.002077                                              (art)\n",
            "3    0.000236                                  (arts_and_crafts)\n",
            "4    0.003599                                            (audio)\n",
            "..        ...                                                ...\n",
            "109  0.000051                  (stationery, luggage_accessories)\n",
            "110  0.000051                    (sports_leisure, watches_gifts)\n",
            "111  0.000144     (sports_leisure_health_beauty, sports_leisure)\n",
            "112  0.000062                                 (stationery, toys)\n",
            "113  0.000144  (health_beauty, sports_leisure_health_beauty, ...\n",
            "\n",
            "[114 rows x 2 columns]\n"
          ],
          "name": "stdout"
        }
      ]
    },
    {
      "cell_type": "markdown",
      "metadata": {
        "id": "pHmgv5bqzYmN",
        "colab_type": "text"
      },
      "source": [
        "**Observation:** Notice how low we must set the support threshold (0.005%) to return a high number of itemsets with more than one item."
      ]
    },
    {
      "cell_type": "code",
      "metadata": {
        "id": "j273yq0Alo0H",
        "colab_type": "code",
        "colab": {}
      },
      "source": [
        "# Apply apriori algorithm to data with a two-item limit.\n",
        "frequent_itemsets = apriori(onehot, min_support = 0.00005, max_len = 2, use_colnames = True)"
      ],
      "execution_count": null,
      "outputs": []
    },
    {
      "cell_type": "markdown",
      "metadata": {
        "id": "CTo4IKmy0BXr",
        "colab_type": "text"
      },
      "source": [
        "**Insight:** What do we gain from the apriori algorithm? We start off with $2^{72}$ potential itemsets and immediately reduce it to 106 without enumerating all $2^{72}$ itemsets."
      ]
    },
    {
      "cell_type": "markdown",
      "metadata": {
        "id": "kBAjlmz-zuWk",
        "colab_type": "text"
      },
      "source": [
        "### **Computing association rules from Apriori output**"
      ]
    },
    {
      "cell_type": "code",
      "metadata": {
        "id": "AF6jhDkmlpM8",
        "colab_type": "code",
        "colab": {
          "base_uri": "https://localhost:8080/",
          "height": 204
        },
        "outputId": "3bf01086-cbf1-472b-de2a-5701402dc2e3"
      },
      "source": [
        "from mlxtend.frequent_patterns import association_rules\n",
        "\n",
        "# Recover association rules using support and a minimum threshold.\n",
        "rules = association_rules(frequent_itemsets, metric = 'support', min_threshold = 0.0001)\n",
        "\n",
        "# Print rules.\n",
        "rules.head()"
      ],
      "execution_count": null,
      "outputs": [
        {
          "output_type": "execute_result",
          "data": {
            "text/html": [
              "<div>\n",
              "<style scoped>\n",
              "    .dataframe tbody tr th:only-of-type {\n",
              "        vertical-align: middle;\n",
              "    }\n",
              "\n",
              "    .dataframe tbody tr th {\n",
              "        vertical-align: top;\n",
              "    }\n",
              "\n",
              "    .dataframe thead th {\n",
              "        text-align: right;\n",
              "    }\n",
              "</style>\n",
              "<table border=\"1\" class=\"dataframe\">\n",
              "  <thead>\n",
              "    <tr style=\"text-align: right;\">\n",
              "      <th></th>\n",
              "      <th>antecedents</th>\n",
              "      <th>consequents</th>\n",
              "      <th>antecedent support</th>\n",
              "      <th>consequent support</th>\n",
              "      <th>support</th>\n",
              "      <th>confidence</th>\n",
              "      <th>lift</th>\n",
              "      <th>leverage</th>\n",
              "      <th>conviction</th>\n",
              "    </tr>\n",
              "  </thead>\n",
              "  <tbody>\n",
              "    <tr>\n",
              "      <th>0</th>\n",
              "      <td>(baby)</td>\n",
              "      <td>(bed_bath_table)</td>\n",
              "      <td>0.029664</td>\n",
              "      <td>0.096827</td>\n",
              "      <td>0.000175</td>\n",
              "      <td>0.005893</td>\n",
              "      <td>0.060856</td>\n",
              "      <td>-0.002697</td>\n",
              "      <td>0.908527</td>\n",
              "    </tr>\n",
              "    <tr>\n",
              "      <th>1</th>\n",
              "      <td>(bed_bath_table)</td>\n",
              "      <td>(baby)</td>\n",
              "      <td>0.096827</td>\n",
              "      <td>0.029664</td>\n",
              "      <td>0.000175</td>\n",
              "      <td>0.001805</td>\n",
              "      <td>0.060856</td>\n",
              "      <td>-0.002697</td>\n",
              "      <td>0.972091</td>\n",
              "    </tr>\n",
              "    <tr>\n",
              "      <th>2</th>\n",
              "      <td>(cool_stuff)</td>\n",
              "      <td>(baby)</td>\n",
              "      <td>0.037345</td>\n",
              "      <td>0.029664</td>\n",
              "      <td>0.000206</td>\n",
              "      <td>0.005507</td>\n",
              "      <td>0.185633</td>\n",
              "      <td>-0.000902</td>\n",
              "      <td>0.975709</td>\n",
              "    </tr>\n",
              "    <tr>\n",
              "      <th>3</th>\n",
              "      <td>(baby)</td>\n",
              "      <td>(cool_stuff)</td>\n",
              "      <td>0.029664</td>\n",
              "      <td>0.037345</td>\n",
              "      <td>0.000206</td>\n",
              "      <td>0.006932</td>\n",
              "      <td>0.185633</td>\n",
              "      <td>-0.000902</td>\n",
              "      <td>0.969375</td>\n",
              "    </tr>\n",
              "    <tr>\n",
              "      <th>4</th>\n",
              "      <td>(baby)</td>\n",
              "      <td>(furniture_decor)</td>\n",
              "      <td>0.029664</td>\n",
              "      <td>0.066310</td>\n",
              "      <td>0.000123</td>\n",
              "      <td>0.004159</td>\n",
              "      <td>0.062728</td>\n",
              "      <td>-0.001844</td>\n",
              "      <td>0.937590</td>\n",
              "    </tr>\n",
              "  </tbody>\n",
              "</table>\n",
              "</div>"
            ],
            "text/plain": [
              "        antecedents        consequents  ...  leverage  conviction\n",
              "0            (baby)   (bed_bath_table)  ... -0.002697    0.908527\n",
              "1  (bed_bath_table)             (baby)  ... -0.002697    0.972091\n",
              "2      (cool_stuff)             (baby)  ... -0.000902    0.975709\n",
              "3            (baby)       (cool_stuff)  ... -0.000902    0.969375\n",
              "4            (baby)  (furniture_decor)  ... -0.001844    0.937590\n",
              "\n",
              "[5 rows x 9 columns]"
            ]
          },
          "metadata": {
            "tags": []
          },
          "execution_count": 98
        }
      ]
    },
    {
      "cell_type": "markdown",
      "metadata": {
        "id": "sz3aVycbz6pt",
        "colab_type": "text"
      },
      "source": [
        "**Notice that `association_rules` automatically computes seven metrics.**"
      ]
    },
    {
      "cell_type": "markdown",
      "metadata": {
        "id": "3_rM_sYn0nPa",
        "colab_type": "text"
      },
      "source": [
        "### **Pruning association rules**"
      ]
    },
    {
      "cell_type": "code",
      "metadata": {
        "id": "jejN-n9Blql6",
        "colab_type": "code",
        "colab": {
          "base_uri": "https://localhost:8080/",
          "height": 576
        },
        "outputId": "9e31272b-d16b-4ff5-c2e9-1318fa47d05b"
      },
      "source": [
        "# Recover association rules using confidence as the metric.\n",
        "rules = association_rules(frequent_itemsets, metric = 'confidence', min_threshold = 0.01)\n",
        "\n",
        "# Print rules.\n",
        "rules"
      ],
      "execution_count": null,
      "outputs": [
        {
          "output_type": "execute_result",
          "data": {
            "text/html": [
              "<div>\n",
              "<style scoped>\n",
              "    .dataframe tbody tr th:only-of-type {\n",
              "        vertical-align: middle;\n",
              "    }\n",
              "\n",
              "    .dataframe tbody tr th {\n",
              "        vertical-align: top;\n",
              "    }\n",
              "\n",
              "    .dataframe thead th {\n",
              "        text-align: right;\n",
              "    }\n",
              "</style>\n",
              "<table border=\"1\" class=\"dataframe\">\n",
              "  <thead>\n",
              "    <tr style=\"text-align: right;\">\n",
              "      <th></th>\n",
              "      <th>antecedents</th>\n",
              "      <th>consequents</th>\n",
              "      <th>antecedent support</th>\n",
              "      <th>consequent support</th>\n",
              "      <th>support</th>\n",
              "      <th>confidence</th>\n",
              "      <th>lift</th>\n",
              "      <th>leverage</th>\n",
              "      <th>conviction</th>\n",
              "    </tr>\n",
              "  </thead>\n",
              "  <tbody>\n",
              "    <tr>\n",
              "      <th>0</th>\n",
              "      <td>(art)</td>\n",
              "      <td>(furniture_decor)</td>\n",
              "      <td>0.002077</td>\n",
              "      <td>0.066310</td>\n",
              "      <td>0.000051</td>\n",
              "      <td>0.024752</td>\n",
              "      <td>0.373287</td>\n",
              "      <td>-0.000086</td>\n",
              "      <td>0.957388</td>\n",
              "    </tr>\n",
              "    <tr>\n",
              "      <th>1</th>\n",
              "      <td>(audio)</td>\n",
              "      <td>(watches_gifts)</td>\n",
              "      <td>0.003599</td>\n",
              "      <td>0.057827</td>\n",
              "      <td>0.000062</td>\n",
              "      <td>0.017143</td>\n",
              "      <td>0.296452</td>\n",
              "      <td>-0.000146</td>\n",
              "      <td>0.958606</td>\n",
              "    </tr>\n",
              "    <tr>\n",
              "      <th>2</th>\n",
              "      <td>(furniture_decor)</td>\n",
              "      <td>(bed_bath_table)</td>\n",
              "      <td>0.066310</td>\n",
              "      <td>0.096827</td>\n",
              "      <td>0.000720</td>\n",
              "      <td>0.010854</td>\n",
              "      <td>0.112101</td>\n",
              "      <td>-0.005701</td>\n",
              "      <td>0.913084</td>\n",
              "    </tr>\n",
              "    <tr>\n",
              "      <th>3</th>\n",
              "      <td>(home_comfort)</td>\n",
              "      <td>(bed_bath_table)</td>\n",
              "      <td>0.004082</td>\n",
              "      <td>0.096827</td>\n",
              "      <td>0.000442</td>\n",
              "      <td>0.108312</td>\n",
              "      <td>1.118618</td>\n",
              "      <td>0.000047</td>\n",
              "      <td>1.012881</td>\n",
              "    </tr>\n",
              "    <tr>\n",
              "      <th>4</th>\n",
              "      <td>(books_general_interest)</td>\n",
              "      <td>(books)</td>\n",
              "      <td>0.005264</td>\n",
              "      <td>0.008483</td>\n",
              "      <td>0.005264</td>\n",
              "      <td>1.000000</td>\n",
              "      <td>117.886061</td>\n",
              "      <td>0.005220</td>\n",
              "      <td>inf</td>\n",
              "    </tr>\n",
              "    <tr>\n",
              "      <th>5</th>\n",
              "      <td>(books)</td>\n",
              "      <td>(books_general_interest)</td>\n",
              "      <td>0.008483</td>\n",
              "      <td>0.005264</td>\n",
              "      <td>0.005264</td>\n",
              "      <td>0.620606</td>\n",
              "      <td>117.886061</td>\n",
              "      <td>0.005220</td>\n",
              "      <td>2.621907</td>\n",
              "    </tr>\n",
              "    <tr>\n",
              "      <th>6</th>\n",
              "      <td>(books_imported)</td>\n",
              "      <td>(books)</td>\n",
              "      <td>0.000545</td>\n",
              "      <td>0.008483</td>\n",
              "      <td>0.000545</td>\n",
              "      <td>1.000000</td>\n",
              "      <td>117.886061</td>\n",
              "      <td>0.000540</td>\n",
              "      <td>inf</td>\n",
              "    </tr>\n",
              "    <tr>\n",
              "      <th>7</th>\n",
              "      <td>(books)</td>\n",
              "      <td>(books_imported)</td>\n",
              "      <td>0.008483</td>\n",
              "      <td>0.000545</td>\n",
              "      <td>0.000545</td>\n",
              "      <td>0.064242</td>\n",
              "      <td>117.886061</td>\n",
              "      <td>0.000540</td>\n",
              "      <td>1.068070</td>\n",
              "    </tr>\n",
              "    <tr>\n",
              "      <th>8</th>\n",
              "      <td>(books_technical)</td>\n",
              "      <td>(books)</td>\n",
              "      <td>0.002673</td>\n",
              "      <td>0.008483</td>\n",
              "      <td>0.002673</td>\n",
              "      <td>1.000000</td>\n",
              "      <td>117.886061</td>\n",
              "      <td>0.002651</td>\n",
              "      <td>inf</td>\n",
              "    </tr>\n",
              "    <tr>\n",
              "      <th>9</th>\n",
              "      <td>(books)</td>\n",
              "      <td>(books_technical)</td>\n",
              "      <td>0.008483</td>\n",
              "      <td>0.002673</td>\n",
              "      <td>0.002673</td>\n",
              "      <td>0.315152</td>\n",
              "      <td>117.886061</td>\n",
              "      <td>0.002651</td>\n",
              "      <td>1.456273</td>\n",
              "    </tr>\n",
              "    <tr>\n",
              "      <th>10</th>\n",
              "      <td>(construction_tools_lights)</td>\n",
              "      <td>(furniture_decor)</td>\n",
              "      <td>0.002509</td>\n",
              "      <td>0.066310</td>\n",
              "      <td>0.000113</td>\n",
              "      <td>0.045082</td>\n",
              "      <td>0.679872</td>\n",
              "      <td>-0.000053</td>\n",
              "      <td>0.977770</td>\n",
              "    </tr>\n",
              "    <tr>\n",
              "      <th>11</th>\n",
              "      <td>(furniture_living_room)</td>\n",
              "      <td>(furniture_decor)</td>\n",
              "      <td>0.004339</td>\n",
              "      <td>0.066310</td>\n",
              "      <td>0.000072</td>\n",
              "      <td>0.016588</td>\n",
              "      <td>0.250155</td>\n",
              "      <td>-0.000216</td>\n",
              "      <td>0.949439</td>\n",
              "    </tr>\n",
              "    <tr>\n",
              "      <th>12</th>\n",
              "      <td>(home_comfort)</td>\n",
              "      <td>(furniture_decor)</td>\n",
              "      <td>0.004082</td>\n",
              "      <td>0.066310</td>\n",
              "      <td>0.000062</td>\n",
              "      <td>0.015113</td>\n",
              "      <td>0.227921</td>\n",
              "      <td>-0.000209</td>\n",
              "      <td>0.948018</td>\n",
              "    </tr>\n",
              "    <tr>\n",
              "      <th>13</th>\n",
              "      <td>(home_construction)</td>\n",
              "      <td>(furniture_decor)</td>\n",
              "      <td>0.005038</td>\n",
              "      <td>0.066310</td>\n",
              "      <td>0.000134</td>\n",
              "      <td>0.026531</td>\n",
              "      <td>0.400103</td>\n",
              "      <td>-0.000200</td>\n",
              "      <td>0.959137</td>\n",
              "    </tr>\n",
              "    <tr>\n",
              "      <th>14</th>\n",
              "      <td>(home_construction)</td>\n",
              "      <td>(garden_tools)</td>\n",
              "      <td>0.005038</td>\n",
              "      <td>0.036173</td>\n",
              "      <td>0.000072</td>\n",
              "      <td>0.014286</td>\n",
              "      <td>0.394932</td>\n",
              "      <td>-0.000110</td>\n",
              "      <td>0.977796</td>\n",
              "    </tr>\n",
              "    <tr>\n",
              "      <th>15</th>\n",
              "      <td>(sports_leisure_health_beauty)</td>\n",
              "      <td>(health_beauty)</td>\n",
              "      <td>0.000144</td>\n",
              "      <td>0.090853</td>\n",
              "      <td>0.000144</td>\n",
              "      <td>1.000000</td>\n",
              "      <td>11.006790</td>\n",
              "      <td>0.000131</td>\n",
              "      <td>inf</td>\n",
              "    </tr>\n",
              "    <tr>\n",
              "      <th>16</th>\n",
              "      <td>(sports_leisure_health_beauty)</td>\n",
              "      <td>(sports_leisure)</td>\n",
              "      <td>0.000144</td>\n",
              "      <td>0.079378</td>\n",
              "      <td>0.000144</td>\n",
              "      <td>1.000000</td>\n",
              "      <td>12.597927</td>\n",
              "      <td>0.000133</td>\n",
              "      <td>inf</td>\n",
              "    </tr>\n",
              "  </tbody>\n",
              "</table>\n",
              "</div>"
            ],
            "text/plain": [
              "                       antecedents  ... conviction\n",
              "0                            (art)  ...   0.957388\n",
              "1                          (audio)  ...   0.958606\n",
              "2                (furniture_decor)  ...   0.913084\n",
              "3                   (home_comfort)  ...   1.012881\n",
              "4         (books_general_interest)  ...        inf\n",
              "5                          (books)  ...   2.621907\n",
              "6                 (books_imported)  ...        inf\n",
              "7                          (books)  ...   1.068070\n",
              "8                (books_technical)  ...        inf\n",
              "9                          (books)  ...   1.456273\n",
              "10     (construction_tools_lights)  ...   0.977770\n",
              "11         (furniture_living_room)  ...   0.949439\n",
              "12                  (home_comfort)  ...   0.948018\n",
              "13             (home_construction)  ...   0.959137\n",
              "14             (home_construction)  ...   0.977796\n",
              "15  (sports_leisure_health_beauty)  ...        inf\n",
              "16  (sports_leisure_health_beauty)  ...        inf\n",
              "\n",
              "[17 rows x 9 columns]"
            ]
          },
          "metadata": {
            "tags": []
          },
          "execution_count": 135
        }
      ]
    },
    {
      "cell_type": "code",
      "metadata": {
        "id": "_JhzujmIlv7C",
        "colab_type": "code",
        "colab": {
          "base_uri": "https://localhost:8080/",
          "height": 111
        },
        "outputId": "31d7bf27-52bb-4f6c-e8d6-b606116d703e"
      },
      "source": [
        "# Select rules with a consequent support above 0.095.\n",
        "rules = rules[rules['consequent support'] > 0.095]\n",
        "\n",
        "# Print rules.\n",
        "rules"
      ],
      "execution_count": null,
      "outputs": [
        {
          "output_type": "execute_result",
          "data": {
            "text/html": [
              "<div>\n",
              "<style scoped>\n",
              "    .dataframe tbody tr th:only-of-type {\n",
              "        vertical-align: middle;\n",
              "    }\n",
              "\n",
              "    .dataframe tbody tr th {\n",
              "        vertical-align: top;\n",
              "    }\n",
              "\n",
              "    .dataframe thead th {\n",
              "        text-align: right;\n",
              "    }\n",
              "</style>\n",
              "<table border=\"1\" class=\"dataframe\">\n",
              "  <thead>\n",
              "    <tr style=\"text-align: right;\">\n",
              "      <th></th>\n",
              "      <th>antecedents</th>\n",
              "      <th>consequents</th>\n",
              "      <th>antecedent support</th>\n",
              "      <th>consequent support</th>\n",
              "      <th>support</th>\n",
              "      <th>confidence</th>\n",
              "      <th>lift</th>\n",
              "      <th>leverage</th>\n",
              "      <th>conviction</th>\n",
              "    </tr>\n",
              "  </thead>\n",
              "  <tbody>\n",
              "    <tr>\n",
              "      <th>2</th>\n",
              "      <td>(furniture_decor)</td>\n",
              "      <td>(bed_bath_table)</td>\n",
              "      <td>0.066310</td>\n",
              "      <td>0.096827</td>\n",
              "      <td>0.000720</td>\n",
              "      <td>0.010854</td>\n",
              "      <td>0.112101</td>\n",
              "      <td>-0.005701</td>\n",
              "      <td>0.913084</td>\n",
              "    </tr>\n",
              "    <tr>\n",
              "      <th>3</th>\n",
              "      <td>(home_comfort)</td>\n",
              "      <td>(bed_bath_table)</td>\n",
              "      <td>0.004082</td>\n",
              "      <td>0.096827</td>\n",
              "      <td>0.000442</td>\n",
              "      <td>0.108312</td>\n",
              "      <td>1.118618</td>\n",
              "      <td>0.000047</td>\n",
              "      <td>1.012881</td>\n",
              "    </tr>\n",
              "  </tbody>\n",
              "</table>\n",
              "</div>"
            ],
            "text/plain": [
              "         antecedents       consequents  ...  leverage  conviction\n",
              "2  (furniture_decor)  (bed_bath_table)  ... -0.005701    0.913084\n",
              "3     (home_comfort)  (bed_bath_table)  ...  0.000047    1.012881\n",
              "\n",
              "[2 rows x 9 columns]"
            ]
          },
          "metadata": {
            "tags": []
          },
          "execution_count": 139
        }
      ]
    },
    {
      "cell_type": "markdown",
      "metadata": {
        "id": "nsSaO4EU2mwX",
        "colab_type": "text"
      },
      "source": [
        "### **The leverage metric**\n",
        "\n",
        "$$leverage(antecendent, consequent) = support(antecedent, consequent) - support(antecedent) * support(consequent)$$"
      ]
    },
    {
      "cell_type": "code",
      "metadata": {
        "id": "6Cjpf3B8lwVG",
        "colab_type": "code",
        "colab": {
          "base_uri": "https://localhost:8080/",
          "height": 80
        },
        "outputId": "76f18705-a9f6-4a8d-b71f-92975dc18177"
      },
      "source": [
        "# Select rules with leverage higher than 0.0.\n",
        "rules = rules[rules['leverage'] > 0.0]\n",
        "\n",
        "# Print rules.\n",
        "rules"
      ],
      "execution_count": null,
      "outputs": [
        {
          "output_type": "execute_result",
          "data": {
            "text/html": [
              "<div>\n",
              "<style scoped>\n",
              "    .dataframe tbody tr th:only-of-type {\n",
              "        vertical-align: middle;\n",
              "    }\n",
              "\n",
              "    .dataframe tbody tr th {\n",
              "        vertical-align: top;\n",
              "    }\n",
              "\n",
              "    .dataframe thead th {\n",
              "        text-align: right;\n",
              "    }\n",
              "</style>\n",
              "<table border=\"1\" class=\"dataframe\">\n",
              "  <thead>\n",
              "    <tr style=\"text-align: right;\">\n",
              "      <th></th>\n",
              "      <th>antecedents</th>\n",
              "      <th>consequents</th>\n",
              "      <th>antecedent support</th>\n",
              "      <th>consequent support</th>\n",
              "      <th>support</th>\n",
              "      <th>confidence</th>\n",
              "      <th>lift</th>\n",
              "      <th>leverage</th>\n",
              "      <th>conviction</th>\n",
              "    </tr>\n",
              "  </thead>\n",
              "  <tbody>\n",
              "    <tr>\n",
              "      <th>3</th>\n",
              "      <td>(home_comfort)</td>\n",
              "      <td>(bed_bath_table)</td>\n",
              "      <td>0.004082</td>\n",
              "      <td>0.096827</td>\n",
              "      <td>0.000442</td>\n",
              "      <td>0.108312</td>\n",
              "      <td>1.118618</td>\n",
              "      <td>0.000047</td>\n",
              "      <td>1.012881</td>\n",
              "    </tr>\n",
              "  </tbody>\n",
              "</table>\n",
              "</div>"
            ],
            "text/plain": [
              "      antecedents       consequents  ...  leverage  conviction\n",
              "3  (home_comfort)  (bed_bath_table)  ...  0.000047    1.012881\n",
              "\n",
              "[1 rows x 9 columns]"
            ]
          },
          "metadata": {
            "tags": []
          },
          "execution_count": 140
        }
      ]
    },
    {
      "cell_type": "markdown",
      "metadata": {
        "id": "JFSSJq5u5qmQ",
        "colab_type": "text"
      },
      "source": [
        "**Insight:** The Apriori algorithm reduced the number of itemsets from $2^{72}$ to 106. Pruning allowed us to identify to a single association rule that could be useful for cross-promotional purposes: $\\{home\\_comfort\\} \\rightarrow \\{bed\\_bath\\_table\\}$."
      ]
    },
    {
      "cell_type": "markdown",
      "metadata": {
        "id": "mbqWXtzR0sif",
        "colab_type": "text"
      },
      "source": [
        "### **Visualizing patterns in metrics**"
      ]
    },
    {
      "cell_type": "code",
      "metadata": {
        "id": "JiA_CqVLlyss",
        "colab_type": "code",
        "colab": {
          "base_uri": "https://localhost:8080/",
          "height": 356
        },
        "outputId": "51ef2101-bf5c-4f6d-81fb-a6c0745f12f3"
      },
      "source": [
        "# Recover association rules with a minimum supporter greater than 0.000001.\n",
        "rules = association_rules(frequent_itemsets, metric = 'support', min_threshold = 0.000001)\n",
        "\n",
        "# Plot leverage against confidence.\n",
        "plt.figure(figsize=(15,5))\n",
        "sns.scatterplot(x=\"leverage\", y=\"confidence\", data=rules)"
      ],
      "execution_count": null,
      "outputs": [
        {
          "output_type": "execute_result",
          "data": {
            "text/plain": [
              "<matplotlib.axes._subplots.AxesSubplot at 0x7f709f5a1d68>"
            ]
          },
          "metadata": {
            "tags": []
          },
          "execution_count": 130
        },
        {
          "output_type": "display_data",
          "data": {
            "image/png": "[encoded data removed]",
            "text/plain": [
              "<Figure size 1080x360 with 1 Axes>"
            ]
          },
          "metadata": {
            "tags": []
          }
        }
      ]
    },
    {
      "cell_type": "markdown",
      "metadata": {
        "id": "v95xAd8803y3",
        "colab_type": "text"
      },
      "source": [
        "**Insight 1**: leverage and confidence contain some of the same information about the strength of an association."
      ]
    },
    {
      "cell_type": "markdown",
      "metadata": {
        "id": "S-BoO_JMmkdV",
        "colab_type": "text"
      },
      "source": [
        "---\n",
        "<center><h1> Q&A 3</h1> </center>\n",
        "\n",
        "---"
      ]
    },
    {
      "cell_type": "code",
      "metadata": {
        "id": "j7v4_LSImSy2",
        "colab_type": "code",
        "colab": {}
      },
      "source": [
        "# Experiment on your own here."
      ],
      "execution_count": null,
      "outputs": []
    }
  ]
}