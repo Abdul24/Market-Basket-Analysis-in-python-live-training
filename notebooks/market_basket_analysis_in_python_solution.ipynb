{
  "nbformat": 4,
  "nbformat_minor": 0,
  "metadata": {
    "colab": {
      "name": "python_live_session_template.ipynb",
      "provenance": []
    },
    "kernelspec": {
      "display_name": "Python 3",
      "language": "python",
      "name": "python3"
    },
    "language_info": {
      "codemirror_mode": {
        "name": "ipython",
        "version": 3
      },
      "file_extension": ".py",
      "mimetype": "text/x-python",
      "name": "python",
      "nbconvert_exporter": "python",
      "pygments_lexer": "ipython3",
      "version": "3.7.1"
    }
  },
  "cells": [
    {
      "cell_type": "markdown",
      "metadata": {
        "colab_type": "text",
        "id": "6Ijg5wUCTQYG"
      },
      "source": [
        "<p align=\"center\">\n",
        "<img src=\"https://github.com/datacamp/Market-Basket-Analysis-in-python-live-training/blob/master/assets/datacamp.svg?raw=True\" alt = \"DataCamp icon\" width=\"50%\">\n",
        "</p>\n",
        "<br><br>\n",
        "\n",
        "## **Market Basket Analysis in Python**\n",
        "\n",
        "Welcome to this hands-on training event on Market Basket Analysis in Python. In this session, you will learn how to:\n",
        "* Identify patterns in consumer decision-making with the `mlxtend` package.\n",
        "* Use metrics to evaluate the properties of patterns.\n",
        "* Construct \"rules\" that provide concrete recommendations for businesses.\n",
        "* Visualize patterns and rules using `seaborn` and `matplotlib`.\n",
        "\n",
        "## **The Dataset**\n",
        "\n",
        "**We'll use a dataset from a Brazilian ecommerce site (olist.com) that is divided into three CSV files:**\n",
        "\n",
        "1. `olist_order_items_dataset.csv`\n",
        "2. `olist_products_dataset.csv`\n",
        "3. `product_category_name_translation.csv`.\n",
        "\n",
        "**The column definitions are as follows:**\n",
        "\n",
        "`olist_order_items_dataset.csv`:\n",
        "\n",
        "- `order_id`: The unique identifier for a transaction.\n",
        "- `order_item_id`: The order of an item within a transaction.\n",
        "- `product_id`: The unique identifier for a product.\n",
        "- `price`: The product's price.\n",
        "\n",
        "`olist_products_dataset.csv`:\n",
        "\n",
        "- `product_id`: The unique identifier for a product.\n",
        "- `product_category_name`: The name of an item's product category in Portuguese.\n",
        "- `product_weight_g`: The product's weight in grams.\n",
        "- `product_length_cm`: The product's length in centimeters.\n",
        "- `product_width_cm`: The product's width in centimeters.\n",
        "- `product_height_cm`: The product's height in centimeters.\n",
        "\n",
        "`product_category_name_translation.csv`:\n",
        "\n",
        "- `product_category_name`: The name of an item's product category in Portuguese.\n",
        "- `product_category_name_english`: The name of an item's product category in English.\n"
      ]
    },
    {
      "cell_type": "markdown",
      "metadata": {
        "colab_type": "text",
        "id": "BMYfcKeDY85K"
      },
      "source": [
        "## **Data Preparation**"
      ]
    },
    {
      "cell_type": "markdown",
      "metadata": {
        "id": "y3xDirMYnuYB",
        "colab_type": "text"
      },
      "source": [
        "The first step in any Market Basket Analysis (MBA) project is to determine what constitutes an **item**, an **itemset**, and a **transaction**. This will depend on the dataset we're using and the question we're attempting to answer.\n",
        "\n",
        "* **Music streaming service**\n",
        "\t* Item: Song\n",
        "\t* Itemset: Collection of unique songs\n",
        "\t* Transaction: User song library\n",
        "* **Grocery store**\n",
        "\t* Item: Grocery\n",
        "\t* Itemset: Collection of groceries\n",
        "\t* Transaction: Basket of items purchased\n",
        "* **Ebook store**\n",
        "\t* Item: Ebook\n",
        "\t* Itemset: One or more ebooks\n",
        "\t* Transaction: User ebook library\n"
      ]
    },
    {
      "cell_type": "markdown",
      "metadata": {
        "id": "4_gO3NX1JvFy",
        "colab_type": "text"
      },
      "source": [
        "**In this live training session, we'll use a dataset of transactions from olist.com, a Brazilian ecommerce site.**\n",
        "* 100,000+ orders over 2016-2018.\n",
        "* Olist connects sellers to marketplaces.\n",
        "* Seller can register products with Olist.\n",
        "* Customer makes purchase at marketplace from Olist store.\n",
        "* Seller fulfills orders."
      ]
    },
    {
      "cell_type": "markdown",
      "metadata": {
        "id": "_mo4P8zBp_9d",
        "colab_type": "text"
      },
      "source": [
        "\n",
        "\n",
        "---\n",
        "\n",
        "\n",
        "![alt](https://github.com/datacamp/Market-Basket-Analysis-in-python-live-training/blob/master/assets/olist_marketplaces.png?raw=true)\n",
        "\n",
        "\n",
        "\n",
        "\n",
        "\n",
        "---\n",
        "\n"
      ]
    },
    {
      "cell_type": "markdown",
      "metadata": {
        "id": "D1HMEk73_ie6",
        "colab_type": "text"
      },
      "source": [
        "**What is an item in our dataset**?\n",
        "  * A product purchased through olist.\n",
        "\n",
        "**What is an itemset?**\n",
        "  * A collections of one or more product(s).\n",
        "\n",
        "**What is a transaction?**\n",
        "  * An itemset that corresponds to a customer's order."
      ]
    },
    {
      "cell_type": "code",
      "metadata": {
        "colab_type": "code",
        "id": "EMQfyC7GUNhT",
        "colab": {}
      },
      "source": [
        "# Import modules.\n",
        "import numpy as np\n",
        "import pandas as pd\n",
        "import matplotlib.pyplot as plt\n",
        "import seaborn as sns\n",
        "\n",
        "# Define path to data.\n",
        "data_path = 'https://github.com/datacamp/Market-Basket-Analysis-in-python-live-training/raw/master/data/'\n",
        "\n",
        "# Load orders dataset\n",
        "orders = pd.read_csv(data_path+'olist_order_items_dataset.csv')\n",
        "\n",
        "# Load products items dataset\n",
        "products = pd.read_csv(data_path+'olist_products_dataset.csv')\n",
        "\n",
        "# Load translations dataset\n",
        "translations = pd.read_csv(data_path+'product_category_name_translation.csv')"
      ],
      "execution_count": 3,
      "outputs": []
    },
    {
      "cell_type": "code",
      "metadata": {
        "id": "KOKdds8Qe6wq",
        "colab_type": "code",
        "colab": {
          "base_uri": "https://localhost:8080/",
          "height": 731
        },
        "outputId": "6d1f2321-d22f-4d3a-9ecf-7ad3b9c5d706"
      },
      "source": [
        "# Print information about each dataset.\n",
        "print(orders.info())\n",
        "print(products.info())\n",
        "print(translations.info())"
      ],
      "execution_count": 4,
      "outputs": [
        {
          "output_type": "stream",
          "text": [
            "<class 'pandas.core.frame.DataFrame'>\n",
            "RangeIndex: 112650 entries, 0 to 112649\n",
            "Data columns (total 7 columns):\n",
            " #   Column               Non-Null Count   Dtype  \n",
            "---  ------               --------------   -----  \n",
            " 0   order_id             112650 non-null  object \n",
            " 1   order_item_id        112650 non-null  int64  \n",
            " 2   product_id           112650 non-null  object \n",
            " 3   seller_id            112650 non-null  object \n",
            " 4   shipping_limit_date  112650 non-null  object \n",
            " 5   price                112650 non-null  float64\n",
            " 6   freight_value        112650 non-null  float64\n",
            "dtypes: float64(2), int64(1), object(4)\n",
            "memory usage: 6.0+ MB\n",
            "None\n",
            "<class 'pandas.core.frame.DataFrame'>\n",
            "RangeIndex: 32951 entries, 0 to 32950\n",
            "Data columns (total 9 columns):\n",
            " #   Column                      Non-Null Count  Dtype  \n",
            "---  ------                      --------------  -----  \n",
            " 0   product_id                  32951 non-null  object \n",
            " 1   product_category_name       32341 non-null  object \n",
            " 2   product_name_length         32341 non-null  float64\n",
            " 3   product_description_length  32341 non-null  float64\n",
            " 4   product_photos_qty          32341 non-null  float64\n",
            " 5   product_weight_g            32949 non-null  float64\n",
            " 6   product_length_cm           32949 non-null  float64\n",
            " 7   product_height_cm           32949 non-null  float64\n",
            " 8   product_width_cm            32949 non-null  float64\n",
            "dtypes: float64(7), object(2)\n",
            "memory usage: 2.3+ MB\n",
            "None\n",
            "<class 'pandas.core.frame.DataFrame'>\n",
            "RangeIndex: 71 entries, 0 to 70\n",
            "Data columns (total 2 columns):\n",
            " #   Column                         Non-Null Count  Dtype \n",
            "---  ------                         --------------  ----- \n",
            " 0   product_category_name          71 non-null     object\n",
            " 1   product_category_name_english  71 non-null     object\n",
            "dtypes: object(2)\n",
            "memory usage: 1.2+ KB\n",
            "None\n"
          ],
          "name": "stdout"
        }
      ]
    },
    {
      "cell_type": "code",
      "metadata": {
        "id": "llcCvVD-fE5s",
        "colab_type": "code",
        "colab": {
          "base_uri": "https://localhost:8080/",
          "height": 204
        },
        "outputId": "16366116-3398-4c14-ecc0-27008ec92e8d"
      },
      "source": [
        "# Preview relevant columns of orders\n",
        "orders[['order_id','product_id']].head()\n",
        "\n",
        "# Preview relevant columns of products\n",
        "products[['product_id','product_category_name']].head()\n",
        "\n",
        "# Preview translations.\n",
        "translations.head()"
      ],
      "execution_count": null,
      "outputs": [
        {
          "output_type": "execute_result",
          "data": {
            "text/html": [
              "<div>\n",
              "<style scoped>\n",
              "    .dataframe tbody tr th:only-of-type {\n",
              "        vertical-align: middle;\n",
              "    }\n",
              "\n",
              "    .dataframe tbody tr th {\n",
              "        vertical-align: top;\n",
              "    }\n",
              "\n",
              "    .dataframe thead th {\n",
              "        text-align: right;\n",
              "    }\n",
              "</style>\n",
              "<table border=\"1\" class=\"dataframe\">\n",
              "  <thead>\n",
              "    <tr style=\"text-align: right;\">\n",
              "      <th></th>\n",
              "      <th>product_category_name</th>\n",
              "      <th>product_category_name_english</th>\n",
              "    </tr>\n",
              "  </thead>\n",
              "  <tbody>\n",
              "    <tr>\n",
              "      <th>0</th>\n",
              "      <td>beleza_saude</td>\n",
              "      <td>health_beauty</td>\n",
              "    </tr>\n",
              "    <tr>\n",
              "      <th>1</th>\n",
              "      <td>informatica_acessorios</td>\n",
              "      <td>computers_accessories</td>\n",
              "    </tr>\n",
              "    <tr>\n",
              "      <th>2</th>\n",
              "      <td>automotivo</td>\n",
              "      <td>auto</td>\n",
              "    </tr>\n",
              "    <tr>\n",
              "      <th>3</th>\n",
              "      <td>cama_mesa_banho</td>\n",
              "      <td>bed_bath_table</td>\n",
              "    </tr>\n",
              "    <tr>\n",
              "      <th>4</th>\n",
              "      <td>moveis_decoracao</td>\n",
              "      <td>furniture_decor</td>\n",
              "    </tr>\n",
              "  </tbody>\n",
              "</table>\n",
              "</div>"
            ],
            "text/plain": [
              "    product_category_name product_category_name_english\n",
              "0            beleza_saude                 health_beauty\n",
              "1  informatica_acessorios         computers_accessories\n",
              "2              automotivo                          auto\n",
              "3         cama_mesa_banho                bed_bath_table\n",
              "4        moveis_decoracao               furniture_decor"
            ]
          },
          "metadata": {
            "tags": []
          },
          "execution_count": 3
        }
      ]
    },
    {
      "cell_type": "code",
      "metadata": {
        "id": "6AXIu0a_fLuG",
        "colab_type": "code",
        "colab": {
          "base_uri": "https://localhost:8080/",
          "height": 221
        },
        "outputId": "eacd1c90-fbb9-4a7f-f037-b117073497ee"
      },
      "source": [
        "# Create dictionary translate product categories to English.\n",
        "translate = dict(zip(translations['product_category_name'], translations['product_category_name_english']))\n",
        "\n",
        "# Perform translation on products DataFrame.\n",
        "products['product_category_name_english'] = products['product_category_name'].apply(lambda x: translate.get(x))\n",
        "\n",
        "# Print English names.\n",
        "print(products['product_category_name_english'])"
      ],
      "execution_count": null,
      "outputs": [
        {
          "output_type": "stream",
          "text": [
            "0                        perfumery\n",
            "1                              art\n",
            "2                   sports_leisure\n",
            "3                             baby\n",
            "4                       housewares\n",
            "                   ...            \n",
            "32946              furniture_decor\n",
            "32947    construction_tools_lights\n",
            "32948               bed_bath_table\n",
            "32949        computers_accessories\n",
            "32950               bed_bath_table\n",
            "Name: product_category_name_english, Length: 32951, dtype: object\n"
          ],
          "name": "stdout"
        }
      ]
    },
    {
      "cell_type": "code",
      "metadata": {
        "id": "jHJtZlAufYpA",
        "colab_type": "code",
        "colab": {}
      },
      "source": [
        "# Create dictionary that maps IDs to product names\n",
        "idsToNames = dict(zip(products['product_id'], products['product_category_name_english']))\n",
        "\n",
        "# Map IDs to product names in orders DataFrame\n",
        "orders['product_category_name_english'] = orders['product_id'].apply(lambda x: idsToNames.get(x))"
      ],
      "execution_count": null,
      "outputs": []
    },
    {
      "cell_type": "code",
      "metadata": {
        "id": "VOgHUOdNfedl",
        "colab_type": "code",
        "colab": {
          "base_uri": "https://localhost:8080/",
          "height": 289
        },
        "outputId": "077c478a-1bd8-4c8e-afc5-79fea3c99aa0"
      },
      "source": [
        "# Apply the .info() method to the orders DataFrame.\n",
        "print(orders.info())"
      ],
      "execution_count": null,
      "outputs": [
        {
          "output_type": "stream",
          "text": [
            "<class 'pandas.core.frame.DataFrame'>\n",
            "Int64Index: 111023 entries, 0 to 112649\n",
            "Data columns (total 8 columns):\n",
            " #   Column                         Non-Null Count   Dtype  \n",
            "---  ------                         --------------   -----  \n",
            " 0   order_id                       111023 non-null  object \n",
            " 1   order_item_id                  111023 non-null  int64  \n",
            " 2   product_id                     111023 non-null  object \n",
            " 3   seller_id                      111023 non-null  object \n",
            " 4   shipping_limit_date            111023 non-null  object \n",
            " 5   price                          111023 non-null  float64\n",
            " 6   freight_value                  111023 non-null  float64\n",
            " 7   product_category_name_english  111023 non-null  object \n",
            "dtypes: float64(2), int64(1), object(5)\n",
            "memory usage: 7.6+ MB\n",
            "None\n"
          ],
          "name": "stdout"
        }
      ]
    },
    {
      "cell_type": "code",
      "metadata": {
        "id": "S0DEdAgkfke2",
        "colab_type": "code",
        "colab": {
          "base_uri": "https://localhost:8080/",
          "height": 51
        },
        "outputId": "715ef221-f872-4a26-bfc6-021c418f06ac"
      },
      "source": [
        "# Drop NaNs.\n",
        "orders.dropna(inplace=True)\n",
        "\n",
        "# Print number of unique items.\n",
        "print(len(orders['product_id'].unique()))\n",
        "\n",
        "# Print number of unique categories.\n",
        "print(len(orders['product_category_name_english'].unique()))"
      ],
      "execution_count": null,
      "outputs": [
        {
          "output_type": "stream",
          "text": [
            "32328\n",
            "71\n"
          ],
          "name": "stdout"
        }
      ]
    },
    {
      "cell_type": "code",
      "metadata": {
        "id": "LObvSR1bfs8N",
        "colab_type": "code",
        "colab": {}
      },
      "source": [
        "import pandas as pd\n",
        "\n",
        "# Get set of order ids.\n",
        "order_ids = orders['order_id'].unique().tolist()\n",
        "\n",
        "# Define empty list of transactions.\n",
        "transactions = []\n",
        "\n",
        "# Iterate over list of order ids.\n",
        "for order in order_ids:\n",
        "\ttransactions.append(';'.join(orders[orders['order_id'] == order]['product_category_name_english']))\n",
        "\n",
        "# Convert to DataFrame.\n",
        "transactions = pd.DataFrame(transactions, columns = ['transactions'])\n",
        "\n",
        "# Save data.\n",
        "transactions.to_csv('../olist_transactions.csv', index = False, sep = ',')"
      ],
      "execution_count": null,
      "outputs": []
    },
    {
      "cell_type": "code",
      "metadata": {
        "id": "YFZyGDFafxKX",
        "colab_type": "code",
        "colab": {
          "base_uri": "https://localhost:8080/",
          "height": 221
        },
        "outputId": "9e5028bc-e93a-43f4-f9b8-ac6fc87a650f"
      },
      "source": [
        "# Load transaction data.\n",
        "transactions = pd.read_csv(data_path + 'olist_transactions.csv')\n",
        "\n",
        "# Preview data.\n",
        "transactions['transactions'].value_counts()"
      ],
      "execution_count": null,
      "outputs": [
        {
          "output_type": "execute_result",
          "data": {
            "text/plain": [
              "health_beauty                                                                                                                        8154\n",
              "bed_bath_table                                                                                                                       7967\n",
              "sports_leisure                                                                                                                       6949\n",
              "computers_accessories                                                                                                                5894\n",
              "watches_gifts                                                                                                                        5320\n",
              "                                                                                                                                     ... \n",
              "cine_photo;sports_leisure                                                                                                               1\n",
              "construction_tools_safety;construction_tools_safety;construction_tools_safety;construction_tools_safety;construction_tools_safety       1\n",
              "sports_leisure;food;food                                                                                                                1\n",
              "furniture_decor;bed_bath_table;bed_bath_table;office_furniture                                                                          1\n",
              "furniture_living_room;furniture_living_room;furniture_living_room;furniture_living_room;furniture_living_room                           1\n",
              "Name: transactions, Length: 756, dtype: int64"
            ]
          },
          "metadata": {
            "tags": []
          },
          "execution_count": 15
        }
      ]
    },
    {
      "cell_type": "code",
      "metadata": {
        "id": "l06VMDNQfzqZ",
        "colab_type": "code",
        "colab": {
          "base_uri": "https://localhost:8080/",
          "height": 591
        },
        "outputId": "de43a56d-e34d-41a0-b933-0ff3ed64c94a"
      },
      "source": [
        "# Import seaborn and set formatting.\n",
        "import seaborn as sns\n",
        "sns.set()\n",
        "\n",
        "# Plot 50 largest categories of transactions.\n",
        "transactions['transactions'].value_counts()[0:50].plot(kind='bar', figsize=(15,5))"
      ],
      "execution_count": null,
      "outputs": [
        {
          "output_type": "execute_result",
          "data": {
            "text/plain": [
              "<matplotlib.axes._subplots.AxesSubplot at 0x7fe30d8b1ac8>"
            ]
          },
          "metadata": {
            "tags": []
          },
          "execution_count": 20
        },
        {
          "output_type": "display_data",
          "data": {
            "image/png": "[encoded data removed]",
            "text/plain": [
              "<Figure size 1080x360 with 1 Axes>"
            ]
          },
          "metadata": {
            "tags": []
          }
        }
      ]
    },
    {
      "cell_type": "code",
      "metadata": {
        "id": "nrBBAg9kf5R1",
        "colab_type": "code",
        "colab": {}
      },
      "source": [
        "# Convert the DataFrame column to list of lists.\n",
        "transactions = transactions['transactions'].tolist()\n",
        "\n",
        "# Convert list items into lists.\n",
        "transactions = [list(transaction.split(';')) for transaction in transactions]\n",
        "\n",
        "# Print subset of lists.\n",
        "#print(transactions[0:2])"
      ],
      "execution_count": null,
      "outputs": []
    },
    {
      "cell_type": "code",
      "metadata": {
        "id": "nzsn1k7vf56b",
        "colab_type": "code",
        "colab": {}
      },
      "source": [
        "# Convert to set and then list.\n",
        "transactions = [list(set(transaction)) for transaction in transactions]"
      ],
      "execution_count": null,
      "outputs": []
    },
    {
      "cell_type": "code",
      "metadata": {
        "id": "bZm2vOczf7mB",
        "colab_type": "code",
        "colab": {
          "base_uri": "https://localhost:8080/",
          "height": 68
        },
        "outputId": "a0d94f4c-e908-48a4-c623-a78e0603178d"
      },
      "source": [
        "# Print length of list.\n",
        "print(len(transactions))\n",
        "\n",
        "# Count number of unique item categories for each transaction.\n",
        "counts = [len(transaction) for transaction in transactions]\n",
        "\n",
        "# Print median transaction length.\n",
        "print(np.median(counts))\n",
        "\n",
        "# Print maximum transaction length.\n",
        "print(np.max(counts))"
      ],
      "execution_count": null,
      "outputs": [
        {
          "output_type": "stream",
          "text": [
            "97256\n",
            "1.0\n",
            "3\n"
          ],
          "name": "stdout"
        }
      ]
    },
    {
      "cell_type": "markdown",
      "metadata": {
        "id": "sC5SO_1LgNO5",
        "colab_type": "text"
      },
      "source": [
        "---\n",
        "<center><h1> Q&A 1</h1> </center>\n",
        "\n",
        "---"
      ]
    },
    {
      "cell_type": "markdown",
      "metadata": {
        "id": "tXqmKHdXiCt6",
        "colab_type": "text"
      },
      "source": [
        "## **Association Rules and Metrics**"
      ]
    },
    {
      "cell_type": "code",
      "metadata": {
        "id": "PADu6cwylDWC",
        "colab_type": "code",
        "colab": {}
      },
      "source": [
        "from mlxtend.preprocessing import TransactionEncoder\n",
        "\n",
        "# Instantiate an encoder.\n",
        "encoder = TransactionEncoder()\n",
        "\n",
        "# Fit encoder to list of lists.\n",
        "encoder.fit(transactions)\n",
        "\n",
        "# Transform lists into one-hot encoded array.\n",
        "onehot = encoder.transform(transactions)\n",
        "\n",
        "# Convert array to pandas DataFrame.\n",
        "onehot = pd.DataFrame(onehot, columns = encoder.columns_)"
      ],
      "execution_count": null,
      "outputs": []
    },
    {
      "cell_type": "code",
      "metadata": {
        "id": "uXvgq0wclEZ_",
        "colab_type": "code",
        "colab": {
          "base_uri": "https://localhost:8080/",
          "height": 224
        },
        "outputId": "4b78685f-5187-47df-de8b-f3f7b9de8f9c"
      },
      "source": [
        "# Print a summary of the DataFrame.\n",
        "onehot.head()"
      ],
      "execution_count": null,
      "outputs": [
        {
          "output_type": "execute_result",
          "data": {
            "text/html": [
              "<div>\n",
              "<style scoped>\n",
              "    .dataframe tbody tr th:only-of-type {\n",
              "        vertical-align: middle;\n",
              "    }\n",
              "\n",
              "    .dataframe tbody tr th {\n",
              "        vertical-align: top;\n",
              "    }\n",
              "\n",
              "    .dataframe thead th {\n",
              "        text-align: right;\n",
              "    }\n",
              "</style>\n",
              "<table border=\"1\" class=\"dataframe\">\n",
              "  <thead>\n",
              "    <tr style=\"text-align: right;\">\n",
              "      <th></th>\n",
              "      <th>agro_industry_and_commerce</th>\n",
              "      <th>air_conditioning</th>\n",
              "      <th>art</th>\n",
              "      <th>arts_and_craftmanship</th>\n",
              "      <th>audio</th>\n",
              "      <th>auto</th>\n",
              "      <th>baby</th>\n",
              "      <th>bed_bath_table</th>\n",
              "      <th>books_general_interest</th>\n",
              "      <th>books_imported</th>\n",
              "      <th>books_technical</th>\n",
              "      <th>cds_dvds_musicals</th>\n",
              "      <th>christmas_supplies</th>\n",
              "      <th>cine_photo</th>\n",
              "      <th>computers</th>\n",
              "      <th>computers_accessories</th>\n",
              "      <th>consoles_games</th>\n",
              "      <th>construction_tools_construction</th>\n",
              "      <th>construction_tools_lights</th>\n",
              "      <th>construction_tools_safety</th>\n",
              "      <th>cool_stuff</th>\n",
              "      <th>costruction_tools_garden</th>\n",
              "      <th>costruction_tools_tools</th>\n",
              "      <th>diapers_and_hygiene</th>\n",
              "      <th>drinks</th>\n",
              "      <th>dvds_blu_ray</th>\n",
              "      <th>electronics</th>\n",
              "      <th>fashio_female_clothing</th>\n",
              "      <th>fashion_bags_accessories</th>\n",
              "      <th>fashion_childrens_clothes</th>\n",
              "      <th>fashion_male_clothing</th>\n",
              "      <th>fashion_shoes</th>\n",
              "      <th>fashion_sport</th>\n",
              "      <th>fashion_underwear_beach</th>\n",
              "      <th>fixed_telephony</th>\n",
              "      <th>flowers</th>\n",
              "      <th>food</th>\n",
              "      <th>food_drink</th>\n",
              "      <th>furniture_bedroom</th>\n",
              "      <th>furniture_decor</th>\n",
              "      <th>furniture_living_room</th>\n",
              "      <th>furniture_mattress_and_upholstery</th>\n",
              "      <th>garden_tools</th>\n",
              "      <th>health_beauty</th>\n",
              "      <th>home_appliances</th>\n",
              "      <th>home_appliances_2</th>\n",
              "      <th>home_comfort_2</th>\n",
              "      <th>home_confort</th>\n",
              "      <th>home_construction</th>\n",
              "      <th>housewares</th>\n",
              "      <th>industry_commerce_and_business</th>\n",
              "      <th>kitchen_dining_laundry_garden_furniture</th>\n",
              "      <th>la_cuisine</th>\n",
              "      <th>luggage_accessories</th>\n",
              "      <th>market_place</th>\n",
              "      <th>music</th>\n",
              "      <th>musical_instruments</th>\n",
              "      <th>office_furniture</th>\n",
              "      <th>party_supplies</th>\n",
              "      <th>perfumery</th>\n",
              "      <th>pet_shop</th>\n",
              "      <th>security_and_services</th>\n",
              "      <th>signaling_and_security</th>\n",
              "      <th>small_appliances</th>\n",
              "      <th>small_appliances_home_oven_and_coffee</th>\n",
              "      <th>sports_leisure</th>\n",
              "      <th>stationery</th>\n",
              "      <th>tablets_printing_image</th>\n",
              "      <th>telephony</th>\n",
              "      <th>toys</th>\n",
              "      <th>watches_gifts</th>\n",
              "    </tr>\n",
              "  </thead>\n",
              "  <tbody>\n",
              "    <tr>\n",
              "      <th>0</th>\n",
              "      <td>False</td>\n",
              "      <td>False</td>\n",
              "      <td>False</td>\n",
              "      <td>False</td>\n",
              "      <td>False</td>\n",
              "      <td>False</td>\n",
              "      <td>False</td>\n",
              "      <td>False</td>\n",
              "      <td>False</td>\n",
              "      <td>False</td>\n",
              "      <td>False</td>\n",
              "      <td>False</td>\n",
              "      <td>False</td>\n",
              "      <td>False</td>\n",
              "      <td>False</td>\n",
              "      <td>False</td>\n",
              "      <td>False</td>\n",
              "      <td>False</td>\n",
              "      <td>False</td>\n",
              "      <td>False</td>\n",
              "      <td>True</td>\n",
              "      <td>False</td>\n",
              "      <td>False</td>\n",
              "      <td>False</td>\n",
              "      <td>False</td>\n",
              "      <td>False</td>\n",
              "      <td>False</td>\n",
              "      <td>False</td>\n",
              "      <td>False</td>\n",
              "      <td>False</td>\n",
              "      <td>False</td>\n",
              "      <td>False</td>\n",
              "      <td>False</td>\n",
              "      <td>False</td>\n",
              "      <td>False</td>\n",
              "      <td>False</td>\n",
              "      <td>False</td>\n",
              "      <td>False</td>\n",
              "      <td>False</td>\n",
              "      <td>False</td>\n",
              "      <td>False</td>\n",
              "      <td>False</td>\n",
              "      <td>False</td>\n",
              "      <td>False</td>\n",
              "      <td>False</td>\n",
              "      <td>False</td>\n",
              "      <td>False</td>\n",
              "      <td>False</td>\n",
              "      <td>False</td>\n",
              "      <td>False</td>\n",
              "      <td>False</td>\n",
              "      <td>False</td>\n",
              "      <td>False</td>\n",
              "      <td>False</td>\n",
              "      <td>False</td>\n",
              "      <td>False</td>\n",
              "      <td>False</td>\n",
              "      <td>False</td>\n",
              "      <td>False</td>\n",
              "      <td>False</td>\n",
              "      <td>False</td>\n",
              "      <td>False</td>\n",
              "      <td>False</td>\n",
              "      <td>False</td>\n",
              "      <td>False</td>\n",
              "      <td>False</td>\n",
              "      <td>False</td>\n",
              "      <td>False</td>\n",
              "      <td>False</td>\n",
              "      <td>False</td>\n",
              "      <td>False</td>\n",
              "    </tr>\n",
              "    <tr>\n",
              "      <th>1</th>\n",
              "      <td>False</td>\n",
              "      <td>False</td>\n",
              "      <td>False</td>\n",
              "      <td>False</td>\n",
              "      <td>False</td>\n",
              "      <td>False</td>\n",
              "      <td>False</td>\n",
              "      <td>False</td>\n",
              "      <td>False</td>\n",
              "      <td>False</td>\n",
              "      <td>False</td>\n",
              "      <td>False</td>\n",
              "      <td>False</td>\n",
              "      <td>False</td>\n",
              "      <td>False</td>\n",
              "      <td>False</td>\n",
              "      <td>False</td>\n",
              "      <td>False</td>\n",
              "      <td>False</td>\n",
              "      <td>False</td>\n",
              "      <td>False</td>\n",
              "      <td>False</td>\n",
              "      <td>False</td>\n",
              "      <td>False</td>\n",
              "      <td>False</td>\n",
              "      <td>False</td>\n",
              "      <td>False</td>\n",
              "      <td>False</td>\n",
              "      <td>False</td>\n",
              "      <td>False</td>\n",
              "      <td>False</td>\n",
              "      <td>False</td>\n",
              "      <td>False</td>\n",
              "      <td>False</td>\n",
              "      <td>False</td>\n",
              "      <td>False</td>\n",
              "      <td>False</td>\n",
              "      <td>False</td>\n",
              "      <td>False</td>\n",
              "      <td>False</td>\n",
              "      <td>False</td>\n",
              "      <td>False</td>\n",
              "      <td>False</td>\n",
              "      <td>False</td>\n",
              "      <td>False</td>\n",
              "      <td>False</td>\n",
              "      <td>False</td>\n",
              "      <td>False</td>\n",
              "      <td>False</td>\n",
              "      <td>False</td>\n",
              "      <td>False</td>\n",
              "      <td>False</td>\n",
              "      <td>False</td>\n",
              "      <td>False</td>\n",
              "      <td>False</td>\n",
              "      <td>False</td>\n",
              "      <td>False</td>\n",
              "      <td>False</td>\n",
              "      <td>False</td>\n",
              "      <td>False</td>\n",
              "      <td>True</td>\n",
              "      <td>False</td>\n",
              "      <td>False</td>\n",
              "      <td>False</td>\n",
              "      <td>False</td>\n",
              "      <td>False</td>\n",
              "      <td>False</td>\n",
              "      <td>False</td>\n",
              "      <td>False</td>\n",
              "      <td>False</td>\n",
              "      <td>False</td>\n",
              "    </tr>\n",
              "    <tr>\n",
              "      <th>2</th>\n",
              "      <td>False</td>\n",
              "      <td>False</td>\n",
              "      <td>False</td>\n",
              "      <td>False</td>\n",
              "      <td>False</td>\n",
              "      <td>False</td>\n",
              "      <td>False</td>\n",
              "      <td>False</td>\n",
              "      <td>False</td>\n",
              "      <td>False</td>\n",
              "      <td>False</td>\n",
              "      <td>False</td>\n",
              "      <td>False</td>\n",
              "      <td>False</td>\n",
              "      <td>False</td>\n",
              "      <td>False</td>\n",
              "      <td>False</td>\n",
              "      <td>False</td>\n",
              "      <td>False</td>\n",
              "      <td>False</td>\n",
              "      <td>False</td>\n",
              "      <td>False</td>\n",
              "      <td>False</td>\n",
              "      <td>False</td>\n",
              "      <td>False</td>\n",
              "      <td>False</td>\n",
              "      <td>False</td>\n",
              "      <td>False</td>\n",
              "      <td>False</td>\n",
              "      <td>False</td>\n",
              "      <td>False</td>\n",
              "      <td>False</td>\n",
              "      <td>False</td>\n",
              "      <td>False</td>\n",
              "      <td>False</td>\n",
              "      <td>False</td>\n",
              "      <td>False</td>\n",
              "      <td>False</td>\n",
              "      <td>False</td>\n",
              "      <td>True</td>\n",
              "      <td>False</td>\n",
              "      <td>False</td>\n",
              "      <td>False</td>\n",
              "      <td>False</td>\n",
              "      <td>False</td>\n",
              "      <td>False</td>\n",
              "      <td>False</td>\n",
              "      <td>False</td>\n",
              "      <td>False</td>\n",
              "      <td>False</td>\n",
              "      <td>False</td>\n",
              "      <td>False</td>\n",
              "      <td>False</td>\n",
              "      <td>False</td>\n",
              "      <td>False</td>\n",
              "      <td>False</td>\n",
              "      <td>False</td>\n",
              "      <td>False</td>\n",
              "      <td>False</td>\n",
              "      <td>False</td>\n",
              "      <td>False</td>\n",
              "      <td>False</td>\n",
              "      <td>False</td>\n",
              "      <td>False</td>\n",
              "      <td>False</td>\n",
              "      <td>False</td>\n",
              "      <td>False</td>\n",
              "      <td>False</td>\n",
              "      <td>False</td>\n",
              "      <td>False</td>\n",
              "      <td>False</td>\n",
              "    </tr>\n",
              "    <tr>\n",
              "      <th>3</th>\n",
              "      <td>False</td>\n",
              "      <td>False</td>\n",
              "      <td>False</td>\n",
              "      <td>False</td>\n",
              "      <td>False</td>\n",
              "      <td>False</td>\n",
              "      <td>False</td>\n",
              "      <td>False</td>\n",
              "      <td>False</td>\n",
              "      <td>False</td>\n",
              "      <td>False</td>\n",
              "      <td>False</td>\n",
              "      <td>False</td>\n",
              "      <td>False</td>\n",
              "      <td>False</td>\n",
              "      <td>False</td>\n",
              "      <td>False</td>\n",
              "      <td>False</td>\n",
              "      <td>False</td>\n",
              "      <td>False</td>\n",
              "      <td>False</td>\n",
              "      <td>False</td>\n",
              "      <td>False</td>\n",
              "      <td>False</td>\n",
              "      <td>False</td>\n",
              "      <td>False</td>\n",
              "      <td>False</td>\n",
              "      <td>False</td>\n",
              "      <td>False</td>\n",
              "      <td>False</td>\n",
              "      <td>False</td>\n",
              "      <td>False</td>\n",
              "      <td>False</td>\n",
              "      <td>False</td>\n",
              "      <td>False</td>\n",
              "      <td>False</td>\n",
              "      <td>False</td>\n",
              "      <td>False</td>\n",
              "      <td>False</td>\n",
              "      <td>False</td>\n",
              "      <td>False</td>\n",
              "      <td>False</td>\n",
              "      <td>False</td>\n",
              "      <td>False</td>\n",
              "      <td>False</td>\n",
              "      <td>False</td>\n",
              "      <td>False</td>\n",
              "      <td>False</td>\n",
              "      <td>False</td>\n",
              "      <td>False</td>\n",
              "      <td>False</td>\n",
              "      <td>False</td>\n",
              "      <td>False</td>\n",
              "      <td>False</td>\n",
              "      <td>False</td>\n",
              "      <td>False</td>\n",
              "      <td>False</td>\n",
              "      <td>False</td>\n",
              "      <td>False</td>\n",
              "      <td>True</td>\n",
              "      <td>False</td>\n",
              "      <td>False</td>\n",
              "      <td>False</td>\n",
              "      <td>False</td>\n",
              "      <td>False</td>\n",
              "      <td>False</td>\n",
              "      <td>False</td>\n",
              "      <td>False</td>\n",
              "      <td>False</td>\n",
              "      <td>False</td>\n",
              "      <td>False</td>\n",
              "    </tr>\n",
              "    <tr>\n",
              "      <th>4</th>\n",
              "      <td>False</td>\n",
              "      <td>False</td>\n",
              "      <td>False</td>\n",
              "      <td>False</td>\n",
              "      <td>False</td>\n",
              "      <td>False</td>\n",
              "      <td>False</td>\n",
              "      <td>False</td>\n",
              "      <td>False</td>\n",
              "      <td>False</td>\n",
              "      <td>False</td>\n",
              "      <td>False</td>\n",
              "      <td>False</td>\n",
              "      <td>False</td>\n",
              "      <td>False</td>\n",
              "      <td>False</td>\n",
              "      <td>False</td>\n",
              "      <td>False</td>\n",
              "      <td>False</td>\n",
              "      <td>False</td>\n",
              "      <td>False</td>\n",
              "      <td>False</td>\n",
              "      <td>False</td>\n",
              "      <td>False</td>\n",
              "      <td>False</td>\n",
              "      <td>False</td>\n",
              "      <td>False</td>\n",
              "      <td>False</td>\n",
              "      <td>False</td>\n",
              "      <td>False</td>\n",
              "      <td>False</td>\n",
              "      <td>False</td>\n",
              "      <td>False</td>\n",
              "      <td>False</td>\n",
              "      <td>False</td>\n",
              "      <td>False</td>\n",
              "      <td>False</td>\n",
              "      <td>False</td>\n",
              "      <td>False</td>\n",
              "      <td>False</td>\n",
              "      <td>False</td>\n",
              "      <td>False</td>\n",
              "      <td>True</td>\n",
              "      <td>False</td>\n",
              "      <td>False</td>\n",
              "      <td>False</td>\n",
              "      <td>False</td>\n",
              "      <td>False</td>\n",
              "      <td>False</td>\n",
              "      <td>False</td>\n",
              "      <td>False</td>\n",
              "      <td>False</td>\n",
              "      <td>False</td>\n",
              "      <td>False</td>\n",
              "      <td>False</td>\n",
              "      <td>False</td>\n",
              "      <td>False</td>\n",
              "      <td>False</td>\n",
              "      <td>False</td>\n",
              "      <td>False</td>\n",
              "      <td>False</td>\n",
              "      <td>False</td>\n",
              "      <td>False</td>\n",
              "      <td>False</td>\n",
              "      <td>False</td>\n",
              "      <td>False</td>\n",
              "      <td>False</td>\n",
              "      <td>False</td>\n",
              "      <td>False</td>\n",
              "      <td>False</td>\n",
              "      <td>False</td>\n",
              "    </tr>\n",
              "  </tbody>\n",
              "</table>\n",
              "</div>"
            ],
            "text/plain": [
              "   agro_industry_and_commerce  air_conditioning  ...   toys  watches_gifts\n",
              "0                       False             False  ...  False          False\n",
              "1                       False             False  ...  False          False\n",
              "2                       False             False  ...  False          False\n",
              "3                       False             False  ...  False          False\n",
              "4                       False             False  ...  False          False\n",
              "\n",
              "[5 rows x 71 columns]"
            ]
          },
          "metadata": {
            "tags": []
          },
          "execution_count": 28
        }
      ]
    },
    {
      "cell_type": "code",
      "metadata": {
        "id": "n3E8jFSelMRj",
        "colab_type": "code",
        "colab": {
          "base_uri": "https://localhost:8080/",
          "height": 221
        },
        "outputId": "e5ed2c41-50e2-4fa0-de04-6704e7799781"
      },
      "source": [
        "# Print mean over all rows for each column.\n",
        "print(onehot.mean(axis=0))"
      ],
      "execution_count": null,
      "outputs": [
        {
          "output_type": "stream",
          "text": [
            "agro_industry_and_commerce    0.001871\n",
            "air_conditioning              0.002601\n",
            "art                           0.002077\n",
            "arts_and_craftmanship         0.000236\n",
            "audio                         0.003599\n",
            "                                ...   \n",
            "stationery                    0.023762\n",
            "tablets_printing_image        0.000812\n",
            "telephony                     0.043175\n",
            "toys                          0.039956\n",
            "watches_gifts                 0.057827\n",
            "Length: 71, dtype: float64\n"
          ],
          "name": "stdout"
        }
      ]
    },
    {
      "cell_type": "code",
      "metadata": {
        "id": "q87IRIx0lR9U",
        "colab_type": "code",
        "colab": {
          "base_uri": "https://localhost:8080/",
          "height": 85
        },
        "outputId": "052edba0-8267-4ec5-edce-50e44b6c6e4a"
      },
      "source": [
        "# Print mean of all columns for each row.\n",
        "print(onehot.sum(axis=1).value_counts())"
      ],
      "execution_count": null,
      "outputs": [
        {
          "output_type": "stream",
          "text": [
            "1    96530\n",
            "2      711\n",
            "3       15\n",
            "dtype: int64\n"
          ],
          "name": "stdout"
        }
      ]
    },
    {
      "cell_type": "code",
      "metadata": {
        "id": "a0ae8w_ClUiy",
        "colab_type": "code",
        "colab": {}
      },
      "source": [
        "# Print mean of all columns for each row.\n",
        "print(onehot.info())"
      ],
      "execution_count": null,
      "outputs": []
    },
    {
      "cell_type": "code",
      "metadata": {
        "id": "immnq5stlWaf",
        "colab_type": "code",
        "colab": {}
      },
      "source": [
        "# Add computers + computer_accessories to DataFrame.\n",
        "onehot['sports_leisure_health_beauty'] = np.logical_and(onehot['sports_leisure'], onehot['health_beauty'])\n",
        "\n",
        "# Print support values.\n",
        "print(onehot.mean(axis = 1))"
      ],
      "execution_count": null,
      "outputs": []
    },
    {
      "cell_type": "code",
      "metadata": {
        "id": "qLGroyNZlX1U",
        "colab_type": "code",
        "colab": {}
      },
      "source": [
        "# Add computers + computer_accessories to DataFrame.\n",
        "onehot['books'] = onehot['books_imported'] + onehot['books_general_interest'] + onehot['books_technical']\n",
        "\n",
        "# Print support values.\n",
        "print(onehot[['books','books_imported','books_general_interest','books_technical']].mean(axis=0))"
      ],
      "execution_count": null,
      "outputs": []
    },
    {
      "cell_type": "code",
      "metadata": {
        "id": "lc_ktQv7lZsJ",
        "colab_type": "code",
        "colab": {}
      },
      "source": [
        "# Define function to compute confidence.\n",
        "def confidence(antecedent, consequent, data = onehot):\n",
        "\tjoint_support = np.logical_and(data[antecedent], data[consequent]).mean()\n",
        "\tantecedent_support = data[antecedent].mean()\n",
        "\treturn joint_support / antecedent_support\n",
        "\n",
        "# Compute confidence(sports_leisure -> health_beauty)\n",
        "confidence('sports_leisure','health_beauty')\n",
        "\n",
        "# Compute confidence(health_beauty -> sports_leisure)\n",
        "confidence('health_beauty','sports_leisure')"
      ],
      "execution_count": null,
      "outputs": []
    },
    {
      "cell_type": "markdown",
      "metadata": {
        "id": "iKm1vKDFldpt",
        "colab_type": "text"
      },
      "source": [
        "---\n",
        "<center><h1> Q&A 2</h1> </center>\n",
        "\n",
        "---"
      ]
    },
    {
      "cell_type": "markdown",
      "metadata": {
        "id": "kXwJcMyViCcW",
        "colab_type": "text"
      },
      "source": [
        "## **The Apriori Algorithm and Pruning**"
      ]
    },
    {
      "cell_type": "code",
      "metadata": {
        "id": "oTdaZ39VljgV",
        "colab_type": "code",
        "colab": {
          "base_uri": "https://localhost:8080/",
          "height": 391
        },
        "outputId": "67dc18c9-25bf-46cf-c516-aabbfd9eaf2f"
      },
      "source": [
        "from mlxtend.frequent_patterns import apriori\n",
        "\n",
        "# Apply apriori algorithm to data.\n",
        "frequent_itemsets = apriori(onehot, min_support = 0.01)\n",
        "\n",
        "# Print frequent itemsets.\n",
        "print(frequent_itemsets)"
      ],
      "execution_count": null,
      "outputs": [
        {
          "output_type": "stream",
          "text": [
            "     support itemsets\n",
            "0   0.040070      (5)\n",
            "1   0.029664      (6)\n",
            "2   0.096827      (7)\n",
            "3   0.068777     (15)\n",
            "4   0.010920     (16)\n",
            "5   0.037345     (20)\n",
            "6   0.026219     (26)\n",
            "7   0.019166     (28)\n",
            "8   0.066310     (39)\n",
            "9   0.036173     (42)\n",
            "10  0.090853     (43)\n",
            "11  0.060500     (49)\n",
            "12  0.010632     (53)\n",
            "13  0.013089     (57)\n",
            "14  0.032512     (59)\n",
            "15  0.017582     (60)\n",
            "16  0.079378     (65)\n",
            "17  0.023762     (66)\n",
            "18  0.043175     (68)\n",
            "19  0.039956     (69)\n",
            "20  0.057827     (70)\n"
          ],
          "name": "stdout"
        }
      ]
    },
    {
      "cell_type": "code",
      "metadata": {
        "id": "L_MrF6Ckllde",
        "colab_type": "code",
        "colab": {
          "base_uri": "https://localhost:8080/",
          "height": 901
        },
        "outputId": "1a858e14-abbb-486d-e2a5-53f5b4cf6a00"
      },
      "source": [
        "# Apply apriori algorithm to data.\n",
        "frequent_itemsets = apriori(onehot, min_support = 0.001, use_colnames = True)\n",
        "\n",
        "# Print frequent itemsets.\n",
        "print(frequent_itemsets)"
      ],
      "execution_count": null,
      "outputs": [
        {
          "output_type": "stream",
          "text": [
            "     support                                   itemsets\n",
            "0   0.001871               (agro_industry_and_commerce)\n",
            "1   0.002601                         (air_conditioning)\n",
            "2   0.002077                                      (art)\n",
            "3   0.003599                                    (audio)\n",
            "4   0.040070                                     (auto)\n",
            "5   0.029664                                     (baby)\n",
            "6   0.096827                           (bed_bath_table)\n",
            "7   0.005264                   (books_general_interest)\n",
            "8   0.002673                          (books_technical)\n",
            "9   0.001316                       (christmas_supplies)\n",
            "10  0.001861                                (computers)\n",
            "11  0.068777                    (computers_accessories)\n",
            "12  0.010920                           (consoles_games)\n",
            "13  0.007691          (construction_tools_construction)\n",
            "14  0.002509                (construction_tools_lights)\n",
            "15  0.001717                (construction_tools_safety)\n",
            "16  0.037345                               (cool_stuff)\n",
            "17  0.001995                 (costruction_tools_garden)\n",
            "18  0.003054                                   (drinks)\n",
            "19  0.026219                              (electronics)\n",
            "20  0.019166                 (fashion_bags_accessories)\n",
            "21  0.001152                    (fashion_male_clothing)\n",
            "22  0.002468                            (fashion_shoes)\n",
            "23  0.001244                  (fashion_underwear_beach)\n",
            "24  0.002231                          (fixed_telephony)\n",
            "25  0.004627                                     (food)\n",
            "26  0.002334                               (food_drink)\n",
            "27  0.066310                          (furniture_decor)\n",
            "28  0.004339                    (furniture_living_room)\n",
            "29  0.036173                             (garden_tools)\n",
            "30  0.090853                            (health_beauty)\n",
            "31  0.007856                          (home_appliances)\n",
            "32  0.002406                        (home_appliances_2)\n",
            "33  0.004082                             (home_confort)\n",
            "34  0.005038                        (home_construction)\n",
            "35  0.060500                               (housewares)\n",
            "36  0.002416           (industry_commerce_and_business)\n",
            "37  0.002550  (kitchen_dining_laundry_garden_furniture)\n",
            "38  0.010632                      (luggage_accessories)\n",
            "39  0.002879                             (market_place)\n",
            "40  0.006457                      (musical_instruments)\n",
            "41  0.013089                         (office_furniture)\n",
            "42  0.032512                                (perfumery)\n",
            "43  0.017582                                 (pet_shop)\n",
            "44  0.001439                   (signaling_and_security)\n",
            "45  0.006478                         (small_appliances)\n",
            "46  0.079378                           (sports_leisure)\n",
            "47  0.023762                               (stationery)\n",
            "48  0.043175                                (telephony)\n",
            "49  0.039956                                     (toys)\n",
            "50  0.057827                            (watches_gifts)\n"
          ],
          "name": "stdout"
        }
      ]
    },
    {
      "cell_type": "code",
      "metadata": {
        "id": "lT7h9l_Glnf6",
        "colab_type": "code",
        "colab": {
          "base_uri": "https://localhost:8080/",
          "height": 255
        },
        "outputId": "54ae7b67-dd5f-44ae-b955-710087700573"
      },
      "source": [
        "# Apply apriori algorithm to data.\n",
        "frequent_itemsets = apriori(onehot, min_support = 0.00005, use_colnames = True)\n",
        "\n",
        "# Print frequent itemsets.\n",
        "print(frequent_itemsets)"
      ],
      "execution_count": null,
      "outputs": [
        {
          "output_type": "stream",
          "text": [
            "      support                           itemsets\n",
            "0    0.001871       (agro_industry_and_commerce)\n",
            "1    0.002601                 (air_conditioning)\n",
            "2    0.002077                              (art)\n",
            "3    0.000236            (arts_and_craftmanship)\n",
            "4    0.003599                            (audio)\n",
            "..        ...                                ...\n",
            "101  0.000144    (health_beauty, sports_leisure)\n",
            "102  0.000113       (housewares, sports_leisure)\n",
            "103  0.000051  (luggage_accessories, stationery)\n",
            "104  0.000051    (watches_gifts, sports_leisure)\n",
            "105  0.000062                 (toys, stationery)\n",
            "\n",
            "[106 rows x 2 columns]\n"
          ],
          "name": "stdout"
        }
      ]
    },
    {
      "cell_type": "code",
      "metadata": {
        "id": "j273yq0Alo0H",
        "colab_type": "code",
        "colab": {}
      },
      "source": [
        "# Apply apriori algorithm to data with a two-item limit on the itemset size.\n",
        "frequent_itemsets = apriori(onehot, min_support = 0.00005, max_len = 2, use_colnames = True)"
      ],
      "execution_count": null,
      "outputs": []
    },
    {
      "cell_type": "code",
      "metadata": {
        "id": "AF6jhDkmlpM8",
        "colab_type": "code",
        "colab": {
          "base_uri": "https://localhost:8080/",
          "height": 646
        },
        "outputId": "b8e2cda2-3c41-4549-d3d5-dc42118bd4e4"
      },
      "source": [
        "from mlxtend.frequent_patterns import association_rules\n",
        "\n",
        "# Recover association rules using support and a minimum threshold.\n",
        "rules = association_rules(frequent_itemsets, metric = 'support', min_threshold = 0.0001)\n",
        "\n",
        "# Print rules.\n",
        "print(rules)"
      ],
      "execution_count": null,
      "outputs": [
        {
          "output_type": "stream",
          "text": [
            "                    antecedents  ... conviction\n",
            "0                        (baby)  ...   0.908527\n",
            "1              (bed_bath_table)  ...   0.972091\n",
            "2                        (baby)  ...   0.969375\n",
            "3                  (cool_stuff)  ...   0.975709\n",
            "4                        (baby)  ...   0.937590\n",
            "5             (furniture_decor)  ...   0.972145\n",
            "6                        (baby)  ...   0.966408\n",
            "7                        (toys)  ...   0.975104\n",
            "8              (bed_bath_table)  ...   0.963679\n",
            "9                  (cool_stuff)  ...   0.905667\n",
            "10             (bed_bath_table)  ...   0.940683\n",
            "11            (furniture_decor)  ...   0.913084\n",
            "12             (bed_bath_table)  ...   0.910210\n",
            "13              (health_beauty)  ...   0.904299\n",
            "14               (home_confort)  ...   1.012881\n",
            "15             (bed_bath_table)  ...   1.000486\n",
            "16             (bed_bath_table)  ...   0.941499\n",
            "17                 (housewares)  ...   0.906253\n",
            "18  (construction_tools_lights)  ...   0.977770\n",
            "19            (furniture_decor)  ...   0.999195\n",
            "20               (garden_tools)  ...   0.938224\n",
            "21            (furniture_decor)  ...   0.966375\n",
            "22          (home_construction)  ...   0.959137\n",
            "23            (furniture_decor)  ...   0.996971\n",
            "24            (furniture_decor)  ...   0.943009\n",
            "25                 (housewares)  ...   0.937514\n",
            "26               (garden_tools)  ...   0.942447\n",
            "27                 (housewares)  ...   0.965633\n",
            "28                  (perfumery)  ...   0.912610\n",
            "29              (health_beauty)  ...   0.968804\n",
            "30              (health_beauty)  ...   0.922083\n",
            "31             (sports_leisure)  ...   0.910799\n",
            "32                 (housewares)  ...   0.922346\n",
            "33             (sports_leisure)  ...   0.940840\n",
            "\n",
            "[34 rows x 9 columns]\n"
          ],
          "name": "stdout"
        }
      ]
    },
    {
      "cell_type": "code",
      "metadata": {
        "id": "jejN-n9Blql6",
        "colab_type": "code",
        "colab": {
          "base_uri": "https://localhost:8080/",
          "height": 204
        },
        "outputId": "295285e8-9251-49fb-822f-fd5018e2acf8"
      },
      "source": [
        "# Recover association rules using confidence as the metric.\n",
        "rules = association_rules(frequent_itemsets, metric = 'confidence', min_threshold = 0.01)\n",
        "\n",
        "# Preview association rules.\n",
        "rules.head()"
      ],
      "execution_count": null,
      "outputs": [
        {
          "output_type": "execute_result",
          "data": {
            "text/html": [
              "<div>\n",
              "<style scoped>\n",
              "    .dataframe tbody tr th:only-of-type {\n",
              "        vertical-align: middle;\n",
              "    }\n",
              "\n",
              "    .dataframe tbody tr th {\n",
              "        vertical-align: top;\n",
              "    }\n",
              "\n",
              "    .dataframe thead th {\n",
              "        text-align: right;\n",
              "    }\n",
              "</style>\n",
              "<table border=\"1\" class=\"dataframe\">\n",
              "  <thead>\n",
              "    <tr style=\"text-align: right;\">\n",
              "      <th></th>\n",
              "      <th>antecedents</th>\n",
              "      <th>consequents</th>\n",
              "      <th>antecedent support</th>\n",
              "      <th>consequent support</th>\n",
              "      <th>support</th>\n",
              "      <th>confidence</th>\n",
              "      <th>lift</th>\n",
              "      <th>leverage</th>\n",
              "      <th>conviction</th>\n",
              "    </tr>\n",
              "  </thead>\n",
              "  <tbody>\n",
              "    <tr>\n",
              "      <th>0</th>\n",
              "      <td>(art)</td>\n",
              "      <td>(furniture_decor)</td>\n",
              "      <td>0.002077</td>\n",
              "      <td>0.066310</td>\n",
              "      <td>0.000051</td>\n",
              "      <td>0.024752</td>\n",
              "      <td>0.373287</td>\n",
              "      <td>-0.000086</td>\n",
              "      <td>0.957388</td>\n",
              "    </tr>\n",
              "    <tr>\n",
              "      <th>1</th>\n",
              "      <td>(audio)</td>\n",
              "      <td>(watches_gifts)</td>\n",
              "      <td>0.003599</td>\n",
              "      <td>0.057827</td>\n",
              "      <td>0.000062</td>\n",
              "      <td>0.017143</td>\n",
              "      <td>0.296452</td>\n",
              "      <td>-0.000146</td>\n",
              "      <td>0.958606</td>\n",
              "    </tr>\n",
              "    <tr>\n",
              "      <th>2</th>\n",
              "      <td>(furniture_decor)</td>\n",
              "      <td>(bed_bath_table)</td>\n",
              "      <td>0.066310</td>\n",
              "      <td>0.096827</td>\n",
              "      <td>0.000720</td>\n",
              "      <td>0.010854</td>\n",
              "      <td>0.112101</td>\n",
              "      <td>-0.005701</td>\n",
              "      <td>0.913084</td>\n",
              "    </tr>\n",
              "    <tr>\n",
              "      <th>3</th>\n",
              "      <td>(home_confort)</td>\n",
              "      <td>(bed_bath_table)</td>\n",
              "      <td>0.004082</td>\n",
              "      <td>0.096827</td>\n",
              "      <td>0.000442</td>\n",
              "      <td>0.108312</td>\n",
              "      <td>1.118618</td>\n",
              "      <td>0.000047</td>\n",
              "      <td>1.012881</td>\n",
              "    </tr>\n",
              "    <tr>\n",
              "      <th>4</th>\n",
              "      <td>(construction_tools_lights)</td>\n",
              "      <td>(furniture_decor)</td>\n",
              "      <td>0.002509</td>\n",
              "      <td>0.066310</td>\n",
              "      <td>0.000113</td>\n",
              "      <td>0.045082</td>\n",
              "      <td>0.679872</td>\n",
              "      <td>-0.000053</td>\n",
              "      <td>0.977770</td>\n",
              "    </tr>\n",
              "  </tbody>\n",
              "</table>\n",
              "</div>"
            ],
            "text/plain": [
              "                   antecedents        consequents  ...  leverage  conviction\n",
              "0                        (art)  (furniture_decor)  ... -0.000086    0.957388\n",
              "1                      (audio)    (watches_gifts)  ... -0.000146    0.958606\n",
              "2            (furniture_decor)   (bed_bath_table)  ... -0.005701    0.913084\n",
              "3               (home_confort)   (bed_bath_table)  ...  0.000047    1.012881\n",
              "4  (construction_tools_lights)  (furniture_decor)  ... -0.000053    0.977770\n",
              "\n",
              "[5 rows x 9 columns]"
            ]
          },
          "metadata": {
            "tags": []
          },
          "execution_count": 39
        }
      ]
    },
    {
      "cell_type": "code",
      "metadata": {
        "id": "_JhzujmIlv7C",
        "colab_type": "code",
        "colab": {
          "base_uri": "https://localhost:8080/",
          "height": 102
        },
        "outputId": "d169cff5-f588-41f6-b91d-76bb93ce235d"
      },
      "source": [
        "# Select rules with a consequent support above 0.07.\n",
        "rules = rules[rules['consequent support'] > 0.07]\n",
        "\n",
        "# Print rules.\n",
        "print(rules)"
      ],
      "execution_count": null,
      "outputs": [
        {
          "output_type": "stream",
          "text": [
            "         antecedents       consequents  ...  leverage  conviction\n",
            "2  (furniture_decor)  (bed_bath_table)  ... -0.005701    0.913084\n",
            "3     (home_confort)  (bed_bath_table)  ...  0.000047    1.012881\n",
            "\n",
            "[2 rows x 9 columns]\n"
          ],
          "name": "stdout"
        }
      ]
    },
    {
      "cell_type": "code",
      "metadata": {
        "id": "6Cjpf3B8lwVG",
        "colab_type": "code",
        "colab": {
          "base_uri": "https://localhost:8080/",
          "height": 85
        },
        "outputId": "0306071f-10fe-49af-bad5-6cac79c1ad85"
      },
      "source": [
        "# Select rules with leverage higher than 0.0.\n",
        "rules = rules[rules['leverage'] > 0.0]\n",
        "\n",
        "# Print rules.\n",
        "print(rules)"
      ],
      "execution_count": null,
      "outputs": [
        {
          "output_type": "stream",
          "text": [
            "      antecedents       consequents  ...  leverage  conviction\n",
            "3  (home_confort)  (bed_bath_table)  ...  0.000047    1.012881\n",
            "\n",
            "[1 rows x 9 columns]\n"
          ],
          "name": "stdout"
        }
      ]
    },
    {
      "cell_type": "code",
      "metadata": {
        "id": "JiA_CqVLlyss",
        "colab_type": "code",
        "colab": {
          "base_uri": "https://localhost:8080/",
          "height": 356
        },
        "outputId": "05c66062-abab-4cff-9f6b-23d3da3c5d39"
      },
      "source": [
        "# Recover association rules using support and a minimum threshold.\n",
        "rules = association_rules(frequent_itemsets, metric = 'support', min_threshold = 0.00001)\n",
        "\n",
        "# Plot support against confidence.\n",
        "plt.figure(figsize=(15,5))\n",
        "sns.scatterplot(x=\"lift\", y=\"confidence\", data=rules)"
      ],
      "execution_count": null,
      "outputs": [
        {
          "output_type": "execute_result",
          "data": {
            "text/plain": [
              "<matplotlib.axes._subplots.AxesSubplot at 0x7fe30d70d828>"
            ]
          },
          "metadata": {
            "tags": []
          },
          "execution_count": 43
        },
        {
          "output_type": "display_data",
          "data": {
            "image/png": "[encoded data removed]",
            "text/plain": [
              "<Figure size 1080x360 with 1 Axes>"
            ]
          },
          "metadata": {
            "tags": []
          }
        }
      ]
    },
    {
      "cell_type": "markdown",
      "metadata": {
        "id": "S-BoO_JMmkdV",
        "colab_type": "text"
      },
      "source": [
        "---\n",
        "<center><h1> Q&A 3</h1> </center>\n",
        "\n",
        "---"
      ]
    },
    {
      "cell_type": "code",
      "metadata": {
        "id": "j7v4_LSImSy2",
        "colab_type": "code",
        "colab": {}
      },
      "source": [
        ""
      ],
      "execution_count": null,
      "outputs": []
    }
  ]
}